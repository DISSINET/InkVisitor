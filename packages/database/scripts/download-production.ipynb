{
 "cells": [
  {
   "cell_type": "code",
   "execution_count": null,
   "metadata": {},
   "outputs": [],
   "source": [
    "# This script downaloads all data stored in a production build and creates json files that can be used for local development"
   ]
  },
  {
   "cell_type": "code",
   "execution_count": 1,
   "metadata": {},
   "outputs": [],
   "source": [
    "import os\n",
    "import json\n",
    "import re\n",
    "from rethinkdb import RethinkDB\n",
    "from dotenv import dotenv_values"
   ]
  },
  {
   "cell_type": "code",
   "execution_count": 23,
   "metadata": {},
   "outputs": [],
   "source": [
    "#PATHS\n",
    "PATH_OUT = './../datasets/production/'\n",
    "PATH_ENV = './../env/.env.tunnel'"
   ]
  },
  {
   "cell_type": "code",
   "execution_count": 31,
   "metadata": {},
   "outputs": [],
   "source": [
    "# connect to rethinkdb database and download actual entities table\n",
    "# this needs a tunnel to be initialized with the command in tunnel.txt\n",
    "r = RethinkDB()\n",
    "config = dotenv_values(PATH_ENV)\n",
    "\n",
    "conn = r.connect(host=config[\"DB_HOST\"], port=config[\"DB_PORT\"], password=config[\"DB_AUTH\"], db=config[\"DB_NAME\"])\n",
    "\n",
    "# get all tables\n",
    "entities = r.table('entities').without(\"createdAt\", \"updatedAt\").coerce_to('array').run(conn)\n",
    "relations = r.table('relations').coerce_to('array').run(conn)\n",
    "documents = r.table('documents').coerce_to('array').run(conn)\n",
    "\n",
    "# for each table create JSON files if they do not exist save them in the data folder\n",
    "if not os.path.exists(PATH_OUT):\n",
    "    os.makedirs(PATH_OUT)\n",
    "\n",
    "with open(PATH_OUT + 'entities.json', 'w') as f:\n",
    "    json.dump(list(entities), f)\n",
    "\n",
    "with open(PATH_OUT + 'relations.json', 'w') as f:\n",
    "    json.dump(list(relations), f)\n",
    "\n",
    "with open(PATH_OUT + 'documents.json', 'w') as f:\n",
    "    json.dump(list(documents), f)\n"
   ]
  },
  {
   "cell_type": "code",
   "execution_count": null,
   "metadata": {},
   "outputs": [],
   "source": []
  }
 ],
 "metadata": {
  "kernelspec": {
   "display_name": "base",
   "language": "python",
   "name": "python3"
  },
  "language_info": {
   "codemirror_mode": {
    "name": "ipython",
    "version": 3
   },
   "file_extension": ".py",
   "mimetype": "text/x-python",
   "name": "python",
   "nbconvert_exporter": "python",
   "pygments_lexer": "ipython3",
   "version": "3.11.5"
  }
 },
 "nbformat": 4,
 "nbformat_minor": 2
}
