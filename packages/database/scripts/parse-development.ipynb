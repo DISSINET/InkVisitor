{
 "cells": [
  {
   "cell_type": "markdown",
   "metadata": {
    "pycharm": {
     "name": "#%% md\n"
    }
   },
   "source": [
    "# Parse development notebook\n",
    "\n",
    "### Notebook purpose\n",
    "This notebook is development space for python parse.ts replacement and upgrade.\n",
    "It reads specified google sheets and output actants.json file, which can be imported to inkVisitor RethinkDB.py\n",
    "\n",
    "### Prerequisities\n",
    " * generated json schema for all used objects (run generate-json-schemas.py)\n",
    "\n",
    "### JSon schemas for the actants\n",
    "...\n",
    "..."
   ]
  },
  {
   "cell_type": "markdown",
   "metadata": {},
   "source": [
    "### The import tables:\n",
    " * Texts\n",
    " * Manuscripts (must be done alongside T, David thinks) = O of class defined by col. class_id\n",
    "   * will have legacyId M\n",
    "   * Prostě je přeparsujeme na O s metaprop \"has - class - manuscript codex\" (see class_id)\n",
    "   *\n",
    " * Resources\n",
    " * C\n",
    " * A\n",
    "\n",
    "### Notes\n",
    " * tables contain hyperlinks formulas, Dator was updated to handle them in resulting \"label|url\" format in the celss\n",
    "\n",
    "### TODOS\n",
    "#### A\n",
    " * make code for creation of entity dataset, which will generate hash id, i.e. I need do NOT make relationt through legacyId\n",
    " *\n",
    "#### B\n",
    " * ..\n",
    " *\n",
    "#### C\n",
    " * ..\n",
    " *\n"
   ]
  },
  {
   "cell_type": "markdown",
   "metadata": {
    "pycharm": {
     "name": "#%% md\n"
    }
   },
   "source": [
    "### Input variables"
   ]
  },
  {
   "cell_type": "code",
   "execution_count": 340,
   "metadata": {
    "pycharm": {
     "name": "#%%\n"
    }
   },
   "outputs": [],
   "source": [
    "input_tables = [\"texts\", \"manuscripts\", \"resources\", \"actions\" , \"concepts\"]\n",
    "\n",
    "#                   sheet_name,  code, header_in_row\n",
    "input_sheets = {\n",
    "    \"texts\" : (\"Texts\",\"13eVorFf7J9R8YzO7TmJRVLzIIwRJS737r7eFbH1boyE\", 5), #https://docs.google.com/spreadsheets/d/13eVorFf7J9R8YzO7TmJRVLzIIwRJS737r7eFbH1boyE/edit#gid=2056508047\n",
    "    \"manuscripts\" : (\"Manuscripts\", \"13eVorFf7J9R8YzO7TmJRVLzIIwRJS737r7eFbH1boyE\", 5),\n",
    "    \"resources\" : (\"Resources\", \"13eVorFf7J9R8YzO7TmJRVLzIIwRJS737r7eFbH1boyE\", 5),\n",
    "    \"actions\" :  (\"Statements\",\"1vzY6opQeR9hZVW6fmuZu2sgy_izF8vqGGhBQDxqT_eQ\", 5), # https://docs.google.com/spreadsheets/d/1vzY6opQeR9hZVW6fmuZu2sgy_izF8vqGGhBQDxqT_eQ/edit#gid=0\n",
    "    \"concepts\" : (\"Concepts\",\"1nSqnN6cjtdWK-y6iKZlJv4iGdhgtqkRPus8StVgExP4\", 5) # https://docs.google.com/spreadsheets/d/1nSqnN6cjtdWK-y6iKZlJv4iGdhgtqkRPus8StVgExP4/edit#gid=0\n",
    "}\n",
    "\n",
    "table_to_entity = {\n",
    "    \"texts\" : \"ITerritory\",\n",
    "    \"manuscripts\" : \"IResource\",\n",
    "    \"resources\" : \"IResource\",\n",
    "    \"actions\" :  \"IAction\",\n",
    "    \"concepts\" : \"IConcept\"\n",
    "}\n",
    "\n",
    "root_sheet_url = \"https://docs.google.com/spreadsheets/d/\"\n",
    "google_api_dotenv_path = \"../env/.env.googleapi\"  # contains google api specs for sheet access with Dator\n",
    "schema_path = '../schemas/' # path for dir with scheas\n",
    "json_schemas = {}  # holder for schemas, so they can be used for jsonschema validate"
   ]
  },
  {
   "cell_type": "code",
   "execution_count": 341,
   "outputs": [],
   "source": [
    "# import subprocess\n",
    "# subprocess.run(\"python generate-json-schemas.py\", shell=True,capture_output=True)"
   ],
   "metadata": {
    "collapsed": false,
    "pycharm": {
     "name": "#%%\n"
    }
   }
  },
  {
   "cell_type": "markdown",
   "metadata": {
    "pycharm": {
     "name": "#%% md\n"
    }
   },
   "source": [
    "### Libraries"
   ]
  },
  {
   "cell_type": "code",
   "execution_count": 342,
   "metadata": {
    "pycharm": {
     "name": "#%%\n"
    }
   },
   "outputs": [],
   "source": [
    "import os, warlock, json\n",
    "from datetime import datetime\n",
    "from jsonschema import validate\n",
    "import dissinetpytools.dator as dator\n",
    "from dotenv import load_dotenv\n",
    "import pandas as pd\n",
    "import numpy as np\n",
    "from copy import deepcopy\n",
    "from shutil import copyfile\n",
    "\n",
    "import uuid\n",
    "\n",
    "def get_uuid_id():\n",
    "    return str(uuid.uuid4())\n",
    "\n",
    "# type hinting\n",
    "from collections.abc import Sequence, Callable\n",
    "from typing import List, Dict, Tuple\n"
   ]
  },
  {
   "cell_type": "markdown",
   "metadata": {
    "pycharm": {
     "name": "#%% md\n"
    }
   },
   "source": [
    "### Initialisation"
   ]
  },
  {
   "cell_type": "code",
   "execution_count": 343,
   "metadata": {
    "pycharm": {
     "name": "#%%\n"
    }
   },
   "outputs": [
    {
     "name": "stdout",
     "output_type": "stream",
     "text": [
      "20 2022-03-04 16:24:25 : Google authentification start\n",
      "20 2022-03-04 16:24:25 : Google authentification end\n",
      "20 2022-03-04 16:24:25 : Dator initiation succesfull end\n"
     ]
    }
   ],
   "source": [
    "load_dotenv(google_api_dotenv_path) # fills os.environ['GDRIVE_API_CREDENTIALS']\n",
    "d = dator.Dator(loglevel=10, print_log_online=True, cache=True, project_name=\"inkvisitor-import\") # expects 'GDRIVE_API_CREDENTIALS' in the global system variables (os.environ)\n",
    "d.google_authenticate()\n",
    "logger = d.logger"
   ]
  },
  {
   "cell_type": "code",
   "execution_count": 344,
   "metadata": {
    "pycharm": {
     "name": "#%%\n"
    }
   },
   "outputs": [
    {
     "name": "stderr",
     "output_type": "stream",
     "text": [
      "2022-03-04 16:24:25,066 INFO Class IAction available.\n",
      "2022-03-04 16:24:25,069 INFO Class IConcept available.\n",
      "2022-03-04 16:24:25,071 INFO Class IEntity available.\n",
      "2022-03-04 16:24:25,073 INFO Class ILabel available.\n",
      "2022-03-04 16:24:25,076 INFO Class IProp available.\n",
      "2022-03-04 16:24:25,078 INFO Class IResource available.\n",
      "2022-03-04 16:24:25,080 INFO Class IStatement available.\n",
      "2022-03-04 16:24:25,082 INFO Class ITerritory available.\n",
      "2022-03-04 16:24:25,084 INFO Class IUser available.\n",
      "2022-03-04 16:24:25,085 INFO There are 9 json classes available (IAction IConcept IEntity ILabel IProp IResource IStatement ITerritory IUser).\n"
     ]
    }
   ],
   "source": [
    "# read all schemas inside and warlock them as globally available classes\n",
    "schema_filenames = os.listdir(schema_path)\n",
    "json_classes = {}\n",
    "for schema in schema_filenames:\n",
    "    name = schema.split(\".\")[0]\n",
    "    file_handler = open(schema_path + schema,\"r\")\n",
    "    schema_json = json.load(file_handler)\n",
    "    json_schemas[name] = schema_json\n",
    "    globals()[name] = warlock.model_factory(schema_json)\n",
    "    json_classes[name] = globals()[name]\n",
    "    logger.info(\"Class \" + name + \" available.\")\n",
    "\n",
    "logger.info(f\"There are {len(json_classes.keys())} json classes available ({' '.join(json_classes.keys())}).\")"
   ]
  },
  {
   "cell_type": "code",
   "execution_count": 345,
   "outputs": [
    {
     "name": "stderr",
     "output_type": "stream",
     "text": [
      "2022-03-04 16:24:25,123 INFO Class IAction validated.\n",
      "2022-03-04 16:24:25,127 INFO Class IConcept validated.\n",
      "2022-03-04 16:24:25,131 INFO Class IProp validated.\n",
      "2022-03-04 16:24:25,135 INFO Class IResource validated.\n",
      "2022-03-04 16:24:25,142 INFO Class IStatement validated.\n",
      "2022-03-04 16:24:25,147 INFO Class ITerritory validated.\n"
     ]
    }
   ],
   "source": [
    "\n",
    "\n",
    "class InkVisitorEntityFactory():\n",
    "\n",
    "    entity_classes = json_classes\n",
    "\n",
    "    json_class_defaults = {\n",
    "        'IAction':{\n",
    "            'class':'A', 'id':'', 'label':'', 'language':'', 'detail':'','data':{'entities':{'a1':[],'a2':[],'s':[]},'valencies':{'a1':'','a2':'','s':''},'status':'1'}, 'props':[], 'notes':[]\n",
    "        },\n",
    "        'IConcept':{\n",
    "            'class':'C', 'id':'', 'label':'', 'language':'', 'detail':'','data':{'status':'1'}, 'props':[], 'notes':[]\n",
    "        },\n",
    "        'IProp':{\n",
    "            'bundleEnd':False,'bundleStart':False, 'certainty':'1', 'children':[], 'elvl':'1',  'id':'', 'logic':'1', 'mood':[], 'moodvariant':'1', 'bundleOperator':'=', 'type': {'elvl':'1','id':'','logic':'1','partitivity':'1','virtuality':'1'},'value':{'elvl':'1', 'id':'', 'logic':'1', 'partitivity':'1', 'virtuality':'1'}\n",
    "        },\n",
    "        'IResource':{\n",
    "             'class':'R', 'id':'', 'label':'', 'language':'', 'detail':'','data':{'link':''}, 'props':[], 'notes':[]\n",
    "        },\n",
    "        'IStatement':{\n",
    "             'class':'S', 'id':'', 'label':'', 'language':'', 'detail':'','data':{'actants':[], 'actions':[], 'references':[],'tags':[],'territory': {'id':'','order':0}, 'text':''}, 'props':[], 'notes':[],\n",
    "        },\n",
    "        'ITerritory':{\n",
    "            'class':'T', 'id':'', 'label':'', 'language':'', 'detail':'','data':{'parent':{ \"id\": \"T0\", \"order\": 0 }}, 'props':[], 'notes':[]\n",
    "        },\n",
    "    }\n",
    "\n",
    "    def __init__(self):\n",
    "        pass\n",
    "\n",
    "    def make(self,entity_name, override_object = {}):\n",
    "        object = type(self).json_class_defaults[entity_name]\n",
    "        object.update(override_object)\n",
    "        return type(self).entity_classes[entity_name](deepcopy(object))\n",
    "\n",
    "    def validate_defaults(self):\n",
    "        for e in self.json_class_defaults:\n",
    "            test = self.make(e, self.json_class_defaults[e])\n",
    "            d.logger.info(f\"Class {e} validated.\")\n",
    "\n",
    "\n",
    "IEF = InkVisitorEntityFactory()\n",
    "IEF.validate_defaults()"
   ],
   "metadata": {
    "collapsed": false,
    "pycharm": {
     "name": "#%%\n"
    }
   }
  },
  {
   "cell_type": "code",
   "execution_count": 346,
   "metadata": {
    "pycharm": {
     "name": "#%%\n"
    }
   },
   "outputs": [
    {
     "name": "stderr",
     "output_type": "stream",
     "text": [
      "2022-03-04 16:24:25,185 INFO Calling for texts with sheet_name Texts.\n"
     ]
    },
    {
     "name": "stdout",
     "output_type": "stream",
     "text": [
      "20 2022-03-04 16:24:25 : Loading dataset from pickle cache Texts\n",
      "20 2022-03-04 16:24:25 : Loading separated dataset header from pickle cache Texts\n"
     ]
    },
    {
     "name": "stderr",
     "output_type": "stream",
     "text": [
      "2022-03-04 16:24:25,253 INFO Calling for manuscripts with sheet_name Manuscripts.\n",
      "2022-03-04 16:24:25,277 INFO Calling for resources with sheet_name Resources.\n",
      "2022-03-04 16:24:25,292 INFO Calling for actions with sheet_name Statements.\n",
      "2022-03-04 16:24:25,356 INFO Calling for concepts with sheet_name Concepts.\n"
     ]
    },
    {
     "name": "stdout",
     "output_type": "stream",
     "text": [
      "20 2022-03-04 16:24:25 : Loading dataset from pickle cache Manuscripts\n",
      "20 2022-03-04 16:24:25 : Loading separated dataset header from pickle cache Manuscripts\n",
      "20 2022-03-04 16:24:25 : Loading dataset from pickle cache Resources\n",
      "20 2022-03-04 16:24:25 : Loading separated dataset header from pickle cache Resources\n",
      "20 2022-03-04 16:24:25 : Loading dataset from pickle cache Statements\n",
      "20 2022-03-04 16:24:25 : Loading separated dataset header from pickle cache Statements\n",
      "20 2022-03-04 16:24:25 : Loading dataset from pickle cache Concepts\n",
      "20 2022-03-04 16:24:25 : Loading separated dataset header from pickle cache Concepts\n"
     ]
    }
   ],
   "source": [
    "# empty value unifier\n",
    "def unify_empty_value(df: pd.DataFrame, empty_values = ['NA',\"#N/A\",\"#VALUE!\"], unified_empty_value = ''):\n",
    "    for naner in empty_values:\n",
    "        df = df.replace(naner,unified_empty_value)\n",
    "    df. fillna(unified_empty_value, inplace=True)\n",
    "    return df\n",
    "\n",
    "\n",
    "\n",
    "# load all input tables\n",
    "tables = {}\n",
    "header_infos = {}\n",
    "for key, sheet in input_sheets.items():\n",
    "    logger.info(f\"Calling for {key} with sheet_name {sheet[0]}.\")\n",
    "    tables[key], header_infos[key] = d.load_df_from_gsheet(sheet[0],root_sheet_url + sheet[1], sheet[0], fromCache=True, header_in_row=sheet[2], clean=True, fillna=True, cleanByColumn=\"label\", parse_hyperlink_formulas=True)\n",
    "    tables[key] = unify_empty_value(tables[key])\n",
    "    header_infos[key] = unify_empty_value(header_infos[key])\n",
    "    tables[key]['uuid'] = tables[key].apply(lambda x: get_uuid_id(), axis=1)  # generate unique id for each row\n"
   ]
  },
  {
   "cell_type": "code",
   "execution_count": 347,
   "outputs": [
    {
     "data": {
      "text/plain": "       id                                              label language  \\\n0      T1       Process against Bernard Niort and his family  English   \n1      T2  Sentences of William Arnold and Stephen of Sai...  English   \n2      T3                 Peter Seila’s Register of Penances  English   \n3      T4        Register FFF of the Carcassonne inquisition  English   \n4      T5  Confirmation of depositions before Ferrer and ...  English   \n..    ...                                                ...      ...   \n137  T139  letter of Evervin of Steinfeld to Bernard of C...  English   \n138  T140                          letter from Liège to pope  English   \n139  T141                                   Annales Aquenses    Latin   \n140  T142                                   Annales Rodenses    Latin   \n141  T143                              Centurie Magdeburgice    Latin   \n\n    label_short                 text_name_original  \\\n0                                                    \n1                                                    \n2         Seila  Penitenciae fratris Petri Sellani   \n3           FFF                                      \n4                                                    \n..          ...                                ...   \n137                                                  \n138                                                  \n139                                                  \n140                                                  \n141                                                  \n\n                                                detail region_covered  \\\n0                                          Early 1234.      Languedoc   \n1                                                           Languedoc   \n2    Penitenciae fratris Petri Sellani. Register of...      Languedoc   \n3                                                           Languedoc   \n4                                                           Languedoc   \n..                                                 ...            ...   \n137                                                                     \n138                                                                     \n139                                                                     \n140                                                                     \n141                                                                     \n\n    region_covered_id region_covered_label  \\\n0               L0015            Languedoc   \n1               L0015            Languedoc   \n2               L0015            Languedoc   \n3               L0015            Languedoc   \n4               L0015            Languedoc   \n..                ...                  ...   \n137                                          \n138                                          \n139                                          \n140                                          \n141                                          \n\n                                   microregion_covered  ... dissinet_person  \\\n0                                                       ...                   \n1                                Toulousain #Lauragais  ...             RS?   \n2                                        Quercy (west)  ...              RS   \n3    Montségur #Lauragais #Cabardès #Quercy (east) ...  ...                   \n4                                                       ...                   \n..                                                 ...  ...             ...   \n137                                                     ...                   \n138                                                     ...                   \n139                                                     ...                   \n140                                                     ...                   \n141                                                     ...                   \n\n    number_defendants number_persons persons_index_link places_index_link  \\\n0                                                                           \n1                                                                           \n2                                                                           \n3                                                                           \n4                                                                           \n..                ...            ...                ...               ...   \n137                                                                         \n138                                                                         \n139                                                                         \n140                                                                         \n141                                                                         \n\n    old_genre_general  old_genre_label  \\\n0                           deposition   \n1            register         sentence   \n2            register  sentence #culpa   \n3            register       deposition   \n4            register                    \n..                ...              ...   \n137                                      \n138                                      \n139                                      \n140                                      \n141                                      \n\n                                                  note parsing_rows_explained  \\\n0                                                                               \n1    End-folio sometimes cited  as 184v (e.g. Roche...                          \n2                                                                               \n3                                                                               \n4                                                                               \n..                                                 ...                    ...   \n137                                                                             \n138                                                                             \n139                                                                             \n140                                                                             \n141                                                                             \n\n                                     uuid  \n0    73d3e3e3-e224-4903-a621-a854cdc6ceef  \n1    9a1df56e-817b-4e8e-8296-996d6bf6568c  \n2    a354f0b7-1e20-4824-a7f5-7d27b339cd4e  \n3    4be53c9b-32c6-4749-a9aa-264736ed7536  \n4    e2174818-5f79-400b-9732-0646b7badc2a  \n..                                    ...  \n137  8d4c38af-69c9-444a-99f9-a72b6cad0242  \n138  2cedf1f6-47c2-46ec-a0d0-58718fe22068  \n139  98db2c0f-e542-4de9-84c0-82fd234dbdec  \n140  9d773433-7fb6-452e-957a-979344e99089  \n141  3ddfaf41-b279-4e0b-b273-8f85fd8bef8e  \n\n[142 rows x 106 columns]",
      "text/html": "<div>\n<style scoped>\n    .dataframe tbody tr th:only-of-type {\n        vertical-align: middle;\n    }\n\n    .dataframe tbody tr th {\n        vertical-align: top;\n    }\n\n    .dataframe thead th {\n        text-align: right;\n    }\n</style>\n<table border=\"1\" class=\"dataframe\">\n  <thead>\n    <tr style=\"text-align: right;\">\n      <th></th>\n      <th>id</th>\n      <th>label</th>\n      <th>language</th>\n      <th>label_short</th>\n      <th>text_name_original</th>\n      <th>detail</th>\n      <th>region_covered</th>\n      <th>region_covered_id</th>\n      <th>region_covered_label</th>\n      <th>microregion_covered</th>\n      <th>...</th>\n      <th>dissinet_person</th>\n      <th>number_defendants</th>\n      <th>number_persons</th>\n      <th>persons_index_link</th>\n      <th>places_index_link</th>\n      <th>old_genre_general</th>\n      <th>old_genre_label</th>\n      <th>note</th>\n      <th>parsing_rows_explained</th>\n      <th>uuid</th>\n    </tr>\n  </thead>\n  <tbody>\n    <tr>\n      <th>0</th>\n      <td>T1</td>\n      <td>Process against Bernard Niort and his family</td>\n      <td>English</td>\n      <td></td>\n      <td></td>\n      <td>Early 1234.</td>\n      <td>Languedoc</td>\n      <td>L0015</td>\n      <td>Languedoc</td>\n      <td></td>\n      <td>...</td>\n      <td></td>\n      <td></td>\n      <td></td>\n      <td></td>\n      <td></td>\n      <td></td>\n      <td>deposition</td>\n      <td></td>\n      <td></td>\n      <td>73d3e3e3-e224-4903-a621-a854cdc6ceef</td>\n    </tr>\n    <tr>\n      <th>1</th>\n      <td>T2</td>\n      <td>Sentences of William Arnold and Stephen of Sai...</td>\n      <td>English</td>\n      <td></td>\n      <td></td>\n      <td></td>\n      <td>Languedoc</td>\n      <td>L0015</td>\n      <td>Languedoc</td>\n      <td>Toulousain #Lauragais</td>\n      <td>...</td>\n      <td>RS?</td>\n      <td></td>\n      <td></td>\n      <td></td>\n      <td></td>\n      <td>register</td>\n      <td>sentence</td>\n      <td>End-folio sometimes cited  as 184v (e.g. Roche...</td>\n      <td></td>\n      <td>9a1df56e-817b-4e8e-8296-996d6bf6568c</td>\n    </tr>\n    <tr>\n      <th>2</th>\n      <td>T3</td>\n      <td>Peter Seila’s Register of Penances</td>\n      <td>English</td>\n      <td>Seila</td>\n      <td>Penitenciae fratris Petri Sellani</td>\n      <td>Penitenciae fratris Petri Sellani. Register of...</td>\n      <td>Languedoc</td>\n      <td>L0015</td>\n      <td>Languedoc</td>\n      <td>Quercy (west)</td>\n      <td>...</td>\n      <td>RS</td>\n      <td></td>\n      <td></td>\n      <td></td>\n      <td></td>\n      <td>register</td>\n      <td>sentence #culpa</td>\n      <td></td>\n      <td></td>\n      <td>a354f0b7-1e20-4824-a7f5-7d27b339cd4e</td>\n    </tr>\n    <tr>\n      <th>3</th>\n      <td>T4</td>\n      <td>Register FFF of the Carcassonne inquisition</td>\n      <td>English</td>\n      <td>FFF</td>\n      <td></td>\n      <td></td>\n      <td>Languedoc</td>\n      <td>L0015</td>\n      <td>Languedoc</td>\n      <td>Montségur #Lauragais #Cabardès #Quercy (east) ...</td>\n      <td>...</td>\n      <td></td>\n      <td></td>\n      <td></td>\n      <td></td>\n      <td></td>\n      <td>register</td>\n      <td>deposition</td>\n      <td></td>\n      <td></td>\n      <td>4be53c9b-32c6-4749-a9aa-264736ed7536</td>\n    </tr>\n    <tr>\n      <th>4</th>\n      <td>T5</td>\n      <td>Confirmation of depositions before Ferrer and ...</td>\n      <td>English</td>\n      <td></td>\n      <td></td>\n      <td></td>\n      <td>Languedoc</td>\n      <td>L0015</td>\n      <td>Languedoc</td>\n      <td></td>\n      <td>...</td>\n      <td></td>\n      <td></td>\n      <td></td>\n      <td></td>\n      <td></td>\n      <td>register</td>\n      <td></td>\n      <td></td>\n      <td></td>\n      <td>e2174818-5f79-400b-9732-0646b7badc2a</td>\n    </tr>\n    <tr>\n      <th>...</th>\n      <td>...</td>\n      <td>...</td>\n      <td>...</td>\n      <td>...</td>\n      <td>...</td>\n      <td>...</td>\n      <td>...</td>\n      <td>...</td>\n      <td>...</td>\n      <td>...</td>\n      <td>...</td>\n      <td>...</td>\n      <td>...</td>\n      <td>...</td>\n      <td>...</td>\n      <td>...</td>\n      <td>...</td>\n      <td>...</td>\n      <td>...</td>\n      <td>...</td>\n      <td>...</td>\n    </tr>\n    <tr>\n      <th>137</th>\n      <td>T139</td>\n      <td>letter of Evervin of Steinfeld to Bernard of C...</td>\n      <td>English</td>\n      <td></td>\n      <td></td>\n      <td></td>\n      <td></td>\n      <td></td>\n      <td></td>\n      <td></td>\n      <td>...</td>\n      <td></td>\n      <td></td>\n      <td></td>\n      <td></td>\n      <td></td>\n      <td></td>\n      <td></td>\n      <td></td>\n      <td></td>\n      <td>8d4c38af-69c9-444a-99f9-a72b6cad0242</td>\n    </tr>\n    <tr>\n      <th>138</th>\n      <td>T140</td>\n      <td>letter from Liège to pope</td>\n      <td>English</td>\n      <td></td>\n      <td></td>\n      <td></td>\n      <td></td>\n      <td></td>\n      <td></td>\n      <td></td>\n      <td>...</td>\n      <td></td>\n      <td></td>\n      <td></td>\n      <td></td>\n      <td></td>\n      <td></td>\n      <td></td>\n      <td></td>\n      <td></td>\n      <td>2cedf1f6-47c2-46ec-a0d0-58718fe22068</td>\n    </tr>\n    <tr>\n      <th>139</th>\n      <td>T141</td>\n      <td>Annales Aquenses</td>\n      <td>Latin</td>\n      <td></td>\n      <td></td>\n      <td></td>\n      <td></td>\n      <td></td>\n      <td></td>\n      <td></td>\n      <td>...</td>\n      <td></td>\n      <td></td>\n      <td></td>\n      <td></td>\n      <td></td>\n      <td></td>\n      <td></td>\n      <td></td>\n      <td></td>\n      <td>98db2c0f-e542-4de9-84c0-82fd234dbdec</td>\n    </tr>\n    <tr>\n      <th>140</th>\n      <td>T142</td>\n      <td>Annales Rodenses</td>\n      <td>Latin</td>\n      <td></td>\n      <td></td>\n      <td></td>\n      <td></td>\n      <td></td>\n      <td></td>\n      <td></td>\n      <td>...</td>\n      <td></td>\n      <td></td>\n      <td></td>\n      <td></td>\n      <td></td>\n      <td></td>\n      <td></td>\n      <td></td>\n      <td></td>\n      <td>9d773433-7fb6-452e-957a-979344e99089</td>\n    </tr>\n    <tr>\n      <th>141</th>\n      <td>T143</td>\n      <td>Centurie Magdeburgice</td>\n      <td>Latin</td>\n      <td></td>\n      <td></td>\n      <td></td>\n      <td></td>\n      <td></td>\n      <td></td>\n      <td></td>\n      <td>...</td>\n      <td></td>\n      <td></td>\n      <td></td>\n      <td></td>\n      <td></td>\n      <td></td>\n      <td></td>\n      <td></td>\n      <td></td>\n      <td>3ddfaf41-b279-4e0b-b273-8f85fd8bef8e</td>\n    </tr>\n  </tbody>\n</table>\n<p>142 rows × 106 columns</p>\n</div>"
     },
     "execution_count": 347,
     "metadata": {},
     "output_type": "execute_result"
    }
   ],
   "source": [
    "tables['texts']"
   ],
   "metadata": {
    "collapsed": false,
    "pycharm": {
     "name": "#%%\n"
    }
   }
  },
  {
   "cell_type": "markdown",
   "source": [
    "#### Territories (general?) parsing instruction\n",
    "there is info column : parsing_rows_explained, comments on the rows\n",
    "\n",
    "row 0 : human comment\n",
    "row 1 : source node for props\n",
    "row 2 : prop type for props OR further details\n",
    "row 3 : parse keyword (inside, discard, propvalue, special, propvalue_2nd)\n",
    "\n",
    "possibilities by parse \"keyword\" (in the last row = 4)\n",
    " * inside  (two variants: A> row2==empty --> put in header_name json_field, B: row2 set -> put in row2 json_field)\n",
    " * discard\n",
    " * propvalue in row 3 +  concept id inrow  2 : classical prop relation\n",
    " * special > completely custom behavior in row 0\n",
    "\n",
    "\n",
    " * ???, ??? discard  > taken as discard\n",
    " * prop with ':' value and other inforomation > taken provisionally as discard"
   ],
   "metadata": {
    "collapsed": false,
    "pycharm": {
     "name": "#%% md\n"
    }
   }
  },
  {
   "cell_type": "code",
   "execution_count": 348,
   "outputs": [],
   "source": [
    "# for controlling entity and mapping of its fields\n",
    "class EntityMapper():\n",
    "                                    # FROM  : TO\n",
    "    enum_mapper = {'language': {\"English\":\"eng\",\"Latin\":\"lat\",\"Occitan\":\"oci\"}}\n",
    "    IFK = InkVisitorEntityFactory()\n",
    "\n",
    "    def __init__(self, entity_type, logger = d.logger):\n",
    "        self.entity =  type(self).IFK.make(entity_type)\n",
    "        self.logger = logger\n",
    "\n",
    "    # method invoker\n",
    "    def update_inside_field(self, field_name, input_value):\n",
    "        if input_value != '':\n",
    "\n",
    "            if \"#\" in input_value or \"~\" in input_value:\n",
    "                self.logger.info(f\"ALERT # or ~ in the input value {input_value}\")\n",
    "\n",
    "            update_operation = \"update_\" + field_name\n",
    "            update_func = getattr(self, update_operation, self.update_generic)\n",
    "            update_func(field_name, input_value)\n",
    "        else:\n",
    "            raise Exception(f\"Trying to update {field_name} with empty input value.\")\n",
    "\n",
    "    #########################################################################################################\n",
    "    # the naming of procedures corresponds to the name of the input_table fields,  used for inside operations\n",
    "\n",
    "    def update_language(self, field_name, input_value):\n",
    "        if input_value in type(self).enum_mapper['language']:\n",
    "            self.entity['language'] = type(self).enum_mapper['language'][input_value]\n",
    "        else:\n",
    "            self.entity['language'] = input_value # will raise error\n",
    "\n",
    "    def update_note(self, field_name, input_value):\n",
    "        #self.logger.info(f\"Updating note with {input_value}.\")\n",
    "        self.entity['notes'].append(input_value)\n",
    "\n",
    "    def update_id(self, field_name, input_value):\n",
    "        #self.entity['id'] = input_value\n",
    "        self.entity['id'] = get_uuid_id()\n",
    "\n",
    "\n",
    "    def update_label(self, field_name, input_value):\n",
    "        self.entity['label'] = \"_I_\"+input_value\n",
    "\n",
    "    def update_generic(self, field_name, input_value):\n",
    "        self.entity[field_name] = input_value\n",
    "\n",
    "\n",
    "\n",
    "class EntityMapperFactory():\n",
    "    def __init__(self):\n",
    "        pass\n",
    "\n",
    "    def make(self,entity_name):\n",
    "        return EntityMapper(entity_name)\n",
    "\n",
    "\n",
    "# CONTROL CLASS\n",
    "class ParseController():\n",
    "    def __init__(self, entity_list: [], keyword_row_id = 3,  logger = d.logger):\n",
    "        self.entity_list = entity_list\n",
    "        self.logger = logger\n",
    "        self.parsers = {}\n",
    "\n",
    "        for e in self.entity_list:\n",
    "            self.parsers[e] = Parser(e, header_df = header_infos[e], table_df = tables[e], keyword_row_id = keyword_row_id, logger = logger)\n",
    "\n",
    "# WORKER CLASS\n",
    "class Parser():\n",
    "    EMP = EntityMapperFactory()\n",
    "\n",
    "    def __init__(self, name, header_df: pd.DataFrame, table_df: pd.DataFrame, keyword_row_id: int, logger: logger):\n",
    "        self.name = name\n",
    "        self.logname = name.upper()\n",
    "        self.input_header_df = header_df\n",
    "        self.input_table_df = table_df\n",
    "        self.prepared_table = pd.DataFrame()\n",
    "        self.keyword_row_id =  keyword_row_id\n",
    "        self.columns = self.input_header_df.columns.tolist()\n",
    "\n",
    "        self.parsing_instruction = {}\n",
    "        self.oper_columns = {'discard':[],'inside':[],'special':[],'unknown':[],'propvalue':[],'propvalue_2nd':[]}\n",
    "        self.logger = logger\n",
    "\n",
    "        # parsed json data holder\n",
    "        self.js_objects = []\n",
    "\n",
    "        # RUN\n",
    "        self.process_header_instructions()\n",
    "        self.prepare_input_table()\n",
    "\n",
    "    # \"parsing\" instructions\n",
    "    def process_header_instructions(self) -> (pd.DataFrame, pd.DataFrame):\n",
    "        keyword_row = self.input_header_df.iloc[self.keyword_row_id]\n",
    "        prop_type_row = self.input_header_df.iloc[self.keyword_row_id - 1]\n",
    "        source_node_row = self.input_header_df.iloc[self.keyword_row_id - 2]\n",
    "\n",
    "        log_uncertain_instructions = []\n",
    "\n",
    "        for c in self.columns:\n",
    "            instruction_candidate = str(keyword_row.at[c])\n",
    "            prop_type_candidate = str(prop_type_row.at[c])\n",
    "            source_node_candidate = str(source_node_row.at[c])\n",
    "\n",
    "            if c == '':\n",
    "                self.logger.error(f\"{self.logname} There is empty column in the dataset.\")\n",
    "                raise Exception(f\"{self.logname} There is empty column in the dataset.\")\n",
    "\n",
    "            if \"?\" in instruction_candidate or \"?\" in prop_type_candidate or \"?\" in source_node_candidate:\n",
    "                log_uncertain_instructions.append(f\"{c.upper()}:{instruction_candidate},{prop_type_candidate},{source_node_candidate}\")\n",
    "            if 'discard' in instruction_candidate:\n",
    "                instruction  = {'operation':'discard', 'target': None}\n",
    "                self.oper_columns['discard'].append(c)\n",
    "            elif 'propvalue' in instruction_candidate:\n",
    "                # TODO validation\n",
    "                prop_type = prop_type_candidate\n",
    "                source_node = source_node_candidate\n",
    "                if \"?\" in prop_type or \"?\"  in source_node:\n",
    "                    instruction = {'operation':'unknown', 'target': None}\n",
    "                    self.oper_columns['unknown'].append(c)\n",
    "                else:\n",
    "                    instruction  = {'operation':'propvalue', 'type': prop_type, 'source':source_node}\n",
    "                    self.oper_columns['propvalue'].append(c)\n",
    "            elif 'special' in instruction_candidate:\n",
    "                # TODO will look for custom functions registered by column name\n",
    "                instruction  = {'operation':'special', 'target': None}\n",
    "                self.oper_columns['special'].append(c)\n",
    "            elif 'inside' in instruction_candidate:\n",
    "                instruction  = {'operation':'inside', 'target': None}\n",
    "                if len(prop_type_candidate) > 0:\n",
    "                    instruction  = {'operation':'inside', 'target': prop_type_candidate}\n",
    "\n",
    "                self.oper_columns['inside'].append(c)\n",
    "            else:\n",
    "                instruction = {'operation':'unknown', 'target': None}\n",
    "                self.oper_columns['unknown'].append(c)\n",
    "            self.parsing_instruction[c] = instruction\n",
    "\n",
    "        self.logger.info(f\"{self.logname} Uncertain parsing instructions in {len(log_uncertain_instructions)} columns: \" + \" \".join(log_uncertain_instructions) + \".\")\n",
    "        return self.parsing_instruction\n",
    "\n",
    "    def prepare_input_table(self):\n",
    "        ip = self.input_table_df.copy()\n",
    "\n",
    "        # discard  columns with discard and unknown operations\n",
    "        ip.drop(columns=self.oper_columns['discard']+self.oper_columns['unknown'], inplace=True)\n",
    "\n",
    "        self.logger.info(f\"{self.logname} {len(self.oper_columns['discard']+self.oper_columns['unknown'])} columns have been dropped (discard:{len(self.oper_columns['discard'])}, unknown:{len(self.oper_columns['unknown'])}). Table now has {len(ip.columns)} columns, inside:{len(self.oper_columns['inside'])},propvalue:{len(self.oper_columns['propvalue'])}, special:{len(self.oper_columns['special'])}. Originally {self.input_table_df.shape[1]} columns.\")\n",
    "\n",
    "        self.prepared_table = ip\n",
    "\n",
    "\n",
    "    def prepare_property(self):\n",
    "        pass\n",
    "\n",
    "\n",
    "    def make_row_object(self):\n",
    "        class_name = table_to_entity[self.name]\n",
    "        return type(self).EMP.make(class_name)\n",
    "\n",
    "    def parse_rows(self):\n",
    "        for key, row in self.prepared_table.iterrows():\n",
    "            # logger.info(f\"{self.name} Processing row {key}\")\n",
    "            entity_mapper = self.make_row_object()\n",
    "            for name, value in row.items():\n",
    "                if name in self.parsing_instruction:\n",
    "                    operation = self.parsing_instruction[name]\n",
    "                else:\n",
    "                    continue # silently ignore unknown columns\n",
    "                #logger.info(f\"{self.name} Processing columns {name}, with value {value}. Op:{operation}\")\n",
    "\n",
    "                if operation['operation'] == 'inside' and value != '':\n",
    "                    #logger.info(f\"{self.name} Processing columns {name}, with value {value}. Op:{operation}\")\n",
    "                    if operation['target']:\n",
    "                        name = operation['target']\n",
    "\n",
    "                    entity_mapper.update_inside_field(name,value)\n",
    "\n",
    "            self.js_objects.append(entity_mapper.entity)\n"
   ],
   "metadata": {
    "collapsed": false,
    "pycharm": {
     "name": "#%%\n"
    }
   }
  },
  {
   "cell_type": "code",
   "execution_count": 349,
   "outputs": [
    {
     "name": "stderr",
     "output_type": "stream",
     "text": [
      "2022-03-04 16:24:25,649 INFO TEXTS Uncertain parsing instructions in 8 columns: TIMERELATION1_TYPE:???,, TIMERELATION1_TARGET_ID:???,, TIMERELATION2_TYPE:???,, TIMERELATION2_TARGET_ID:???,, TIMERELATION3_TYPE:???,, TIMERELATION3_TARGET_ID:???,, TIMERELATION4_TYPE:???,, TIMERELATION4_TARGET_ID:???,,.\n",
      "2022-03-04 16:24:25,655 INFO TEXTS 66 columns have been dropped (discard:58, unknown:8). Table now has 40 columns, inside:8,propvalue:28, special:3. Originally 106 columns.\n"
     ]
    }
   ],
   "source": [
    "#cp = ParseController(entity_list=['texts','manuscripts','resources','concepts','actions'])\n",
    "cp = ParseController(entity_list=['texts'])"
   ],
   "metadata": {
    "collapsed": false,
    "pycharm": {
     "name": "#%%\n"
    }
   }
  },
  {
   "cell_type": "code",
   "execution_count": 350,
   "outputs": [],
   "source": [
    "cp.parsers['texts'].parse_rows()"
   ],
   "metadata": {
    "collapsed": false,
    "pycharm": {
     "name": "#%%\n"
    }
   }
  },
  {
   "cell_type": "code",
   "execution_count": 351,
   "outputs": [
    {
     "data": {
      "text/plain": "[{'class': 'T',\n  'id': '245be591-88ec-4ee6-b100-6fa2de9bf795',\n  'label': '_I_Process against Bernard Niort and his family',\n  'language': 'eng',\n  'detail': 'Early 1234.',\n  'data': {'parent': {'id': 'T0', 'order': 0}},\n  'props': [],\n  'notes': ['Douais has a partial ed. Bruschi – Biller (eds.), Texts and the Repression of Medieval Heresy…, 13, n. 28, and Bruschi, The Wandering Heretics…, 4, refer to the ed. of the whole vol. 21 in preparation by Jörg Feuchter, but the project seems discontinued.']},\n {'class': 'T',\n  'id': '50a0afe0-515d-4260-8e22-836419e311df',\n  'label': '_I_Sentences of William Arnold and Stephen of Saint-Thibéry',\n  'language': 'eng',\n  'detail': '',\n  'data': {'parent': {'id': 'T0', 'order': 0}},\n  'props': [],\n  'notes': ['Bruschi – Biller (eds.), Texts and the Repression of Medieval Heresy…, 13, n. 28, and Bruschi, The Wandering Heretics…, 4, refer to the ed. of the whole Doat vol. 21 in preparation by Jörg Feuchter, but this editorial project seems discontinued.',\n   'End-folio sometimes cited  as 184v (e.g. Roche, Une Église, 59) but 185r verified directly in the ms.']},\n {'class': 'T',\n  'id': '3d408043-3137-43ad-b926-3c7860318977',\n  'label': '_I_Peter Seila’s Register of Penances',\n  'language': 'eng',\n  'detail': 'Penitenciae fratris Petri Sellani. Register of penances (732 of them, mostly pilgrimages and crosses) of Peter Seila (Sella), one of the first inquisitors in Languedoc (named 1233) and former companion of St. Dominic. Records from Western Quercy, organized by settlement.',\n  'data': {'parent': {'id': 'T0', 'order': 0}},\n  'props': [],\n  'notes': []},\n {'class': 'T',\n  'id': '22a8378f-a969-4323-8ccb-c9e80d3d35de',\n  'label': '_I_Register FFF of the Carcassonne inquisition',\n  'language': 'eng',\n  'detail': '',\n  'data': {'parent': {'id': 'T0', 'order': 0}},\n  'props': [],\n  'notes': ['Duvernoy, 1998 gives a partial edition (his full typescript transcription available in the archive of CEC, but not at the website). Biller et al. are preparing a new edition as of 2019.']},\n {'class': 'T',\n  'id': 'd7f8d217-52f1-49b2-a383-c634cd2f42a4',\n  'label': '_I_Confirmation of depositions before Ferrer and Pons Gary',\n  'language': 'eng',\n  'detail': '',\n  'data': {'parent': {'id': 'T0', 'order': 0}},\n  'props': [],\n  'notes': []},\n {'class': 'T',\n  'id': '49478aa2-328c-42dc-bcfc-d3f52ea8aff5',\n  'label': '_I_Register of Bernard of Caux and John of Saint-Pierre',\n  'language': 'eng',\n  'detail': '',\n  'data': {'parent': {'id': 'T0', 'order': 0}},\n  'props': [],\n  'notes': []},\n {'class': 'T',\n  'id': '80f787ac-b928-4316-b322-a404b6ece5b9',\n  'label': '_I_Sentences of Ferrer and William Raymond',\n  'language': 'eng',\n  'detail': '',\n  'data': {'parent': {'id': 'T0', 'order': 0}},\n  'props': [],\n  'notes': []},\n {'class': 'T',\n  'id': '03a7e9af-b2c8-440f-b83f-4d05f99b6fb0',\n  'label': '_I_Sentences of Bernard of Caux and John of Saint-Pierre',\n  'language': 'eng',\n  'detail': 'An extant part of sentences concerning depositions in ms. 609 (T9).',\n  'data': {'parent': {'id': 'T0', 'order': 0}},\n  'props': [],\n  'notes': []},\n {'class': 'T',\n  'id': 'bfc27580-e33a-48d7-91a6-e34969d900f5',\n  'label': '_I_Register of Bernard of Caux and John of Saint-Pierre',\n  'language': 'eng',\n  'detail': 'Confessiones de quinto libro Lauraguesii fratris Bernardi de Cautio. The largest extant set of medieval inquisitorial records, containing ca. 5,500 depositions. Most from 1245-1246, only one from 1253.',\n  'data': {'parent': {'id': 'T0', 'order': 0}},\n  'props': [],\n  'notes': ['Evans & Sherwood is a typescript transcription with some handwritten corrections. Rehr (2019: 6) states that the transcription is \"incomplete\" and \"deeply flawed\" but gives no examples or quantification of errors on a sample.',\n   \"Leaves some text out, OCR errors, but has the virtue of being digitally searchable. Rehr (2019: 6) says that as of 2019, the original typescript is stored with Duvernoy's other papers at the Archives départementales de l’Aude under shelf number 10 JJ 422–423.\"]},\n {'class': 'T',\n  'id': 'cf0fd009-2daf-476b-8afb-a118d132a79e',\n  'label': '_I_Register HHH of the Carcassonne inquisition',\n  'language': 'eng',\n  'detail': 'Fragment of a larger register. Not very detailed descriptions but notes social interactions. Shows much on the involvement of lower nobility in Cathar Christianity.',\n  'data': {'parent': {'id': 'T0', 'order': 0}},\n  'props': [],\n  'notes': []},\n {'class': 'T',\n  'id': '764c9c1f-9276-4315-9da2-afc2778c860d',\n  'label': '_I_Register of the notary (greffier) of the Carcassonne inquisition',\n  'language': 'eng',\n  'detail': 'A register of notarial protocols (minutes) with boundary dates 1249 and 1259 (only one from 1267), covering three regions: Val-de-Daigne, region between Limoux and Carcassonne, and the Cabardès. See Paul, Jacques, „La précédure inquisitoriale à Carcassonne au milieu du XIIIe siècle“, in: L’Église et le droit dans le Midi (XIIIe-XIVe siècles), (Cahiers de Fanjeaux 29), Toulouse: Privat 1994, 361-396.',\n  'data': {'parent': {'id': 'T0', 'order': 0}},\n  'props': [],\n  'notes': [\"According to Roche, Une Église..., 70, Douais' edition is of good quality.\"]},\n {'class': 'T',\n  'id': 'd1ff90a8-c996-4e31-b34d-7ab9321e876e',\n  'label': '_I_Depositions of converted Good men I',\n  'language': 'eng',\n  'detail': 'A register of depositions of converted Good men and women, with interesting information on the involvement of lower nobility in Cathar Christianity. Two fragments in two different locations.',\n  'data': {'parent': {'id': 'T0', 'order': 0}},\n  'props': [],\n  'notes': []},\n {'class': 'T',\n  'id': '4f0e4d5e-9d3a-49d5-b960-85072cb6b172',\n  'label': '_I_Depositions of converted Good men II',\n  'language': 'eng',\n  'detail': '',\n  'data': {'parent': {'id': 'T0', 'order': 0}},\n  'props': [],\n  'notes': []},\n {'class': 'T',\n  'id': '29a4cd7a-dcd2-4bcb-9b90-4950cd9c4f0f',\n  'label': '_I_Register of Pons of Parnac, Ranulph of Plaissac et al., Toulouse 1273-1282',\n  'language': 'eng',\n  'detail': '',\n  'data': {'parent': {'id': 'T0', 'order': 0}},\n  'props': [],\n  'notes': []},\n {'class': 'T',\n  'id': 'ea5e3ccb-ed20-42e1-b57f-a0759650421a',\n  'label': '_I_Confirmation of proprietary rights of the descendants of Toulouse Cathars',\n  'language': 'eng',\n  'detail': '',\n  'data': {'parent': {'id': 'T0', 'order': 0}},\n  'props': [],\n  'notes': []},\n {'class': 'T',\n  'id': '81263f2f-e440-4e51-afe8-f60dad870a9a',\n  'label': '_I_Register of John Galand and William of Saint-Seine, 1286-1287',\n  'language': 'eng',\n  'detail': '',\n  'data': {'parent': {'id': 'T0', 'order': 0}},\n  'props': [],\n  'notes': []},\n {'class': 'T',\n  'id': 'a98e78fa-03b2-4f88-ac6d-e03227b757e1',\n  'label': '_I_Register of John Galand and William of Saint-Seine, 1283-1302',\n  'language': 'eng',\n  'detail': \"Register mapping heresy in Albi between 1283 and 1302 but most in 1283-1291 (Roche, Une Église..., 60). Just depositions, no sentences. It mentions 890 suspects (Roche, Une Église..., 61-62). Partially problematic and manipulative (astonishing number of consolaments, object of pontifical process around 1330 covered in Doat vol. 32), compiled from older materials some time after 1302 (Roche, Une Église..., 60): in 1303-1304 or even as late as 1306-1316 (both dates given by Duvernoy but he opts rather for 1303-1304). The copy used by Doat's scribes was a working document with various notes (Roche, Une Église..., 61).\",\n  'data': {'parent': {'id': 'T0', 'order': 0}},\n  'props': [],\n  'notes': ['Typescript transcription by Jean Duvernoy deposited at CEC (Roche, Une Église cathare..., 59), now Archives départementales de l’Aude. A tiny part (fol. 245r-254v) published at http://jean.duvernoy.free.fr/text/pdf/jean_galand_lagarrigue.pdf.']},\n {'class': 'T',\n  'id': 'c13e5794-4da1-45a1-b5ec-9fd05579ddba',\n  'label': '_I_Millau court records concerning support lent to the faidits',\n  'language': 'eng',\n  'detail': 'Depositions before secular justice from 6 May 1286 and 22 February 1288.',\n  'data': {'parent': {'id': 'T0', 'order': 0}},\n  'props': [],\n  'notes': ['Freyssenge, 2005 is a partial and preliminary ed., with a lot of unread parts.']},\n {'class': 'T',\n  'id': '2ff9c59a-6022-49bd-98ab-6def273cb862',\n  'label': '_I_Transcripts from a register of inquisition in Albi, 1281-1319',\n  'language': 'eng',\n  'detail': 'Transcripts by François Graverol of a now lost inquisitorial register concerning Albi, 1281-1319.',\n  'data': {'parent': {'id': 'T0', 'order': 0}},\n  'props': [],\n  'notes': ['Cf. notes in the local file _info-registr-Albi-vlastneny-Graverolem-pak-ztraceny.doc. Benoist, Histoire des Albigeois I, 44-45, writes on the lost original: \"Il est de velin, écrit en lettre Gottique, et contient cent cinquante-neuf feüillets, où toutes les procedures faites depuis 1277. jusqu’en 1319 sont raportés, avec la déposition de deux cens quatre- (44) vingt-cinq personnes, qui specifient des faits particuliers, touchant la doctrine et la conduite de ceux d’entre les Albigeois qui se faisoient appeller les Bons-hommes.\"']},\n {'class': 'T',\n  'id': '0cbab7de-3b08-4ad4-a192-1e7a96d33a34',\n  'label': '_I_Register of Nicolas of Abbeville et al., 1299-1300',\n  'language': 'eng',\n  'detail': '',\n  'data': {'parent': {'id': 'T0', 'order': 0}},\n  'props': [],\n  'notes': ['This register is extant in ms. 11847 and also transcribed in 1574 into ms. lat. 12856. I verified the first and the last deposition and they are identical; confirmed also by Davis, 1948: 96, n. 21.']},\n {'class': 'T',\n  'id': '04d183e9-edaf-495b-af34-8ef78c00a596',\n  'label': '_I_Register of Geoffroy of Ablis',\n  'language': 'eng',\n  'detail': '',\n  'data': {'parent': {'id': 'T0', 'order': 0}},\n  'props': [],\n  'notes': []},\n {'class': 'T',\n  'id': 'ee12cde2-4a36-4170-9f88-6f44ad9f0f85',\n  'label': '_I_Bernard Gui’s Book of Sentences',\n  'language': 'eng',\n  'detail': 'Large register of trial documents, mostly sentences with culpae, with name lists by settlement.',\n  'data': {'parent': {'id': 'T0', 'order': 0}},\n  'props': [],\n  'notes': []},\n {'class': 'T',\n  'id': 'c1c6ee30-069d-4d9d-b67f-92c8fecf5ce4',\n  'label': '_I_Register of Jacques Fournier',\n  'language': 'eng',\n  'detail': 'Register of depositions mostly concerning memories of the Autier revival of Cathar Christianity.',\n  'data': {'parent': {'id': 'T0', 'order': 0}},\n  'props': [],\n  'notes': []},\n {'class': 'T',\n  'id': '0076972b-dc54-4aa8-b504-50bb2b084217',\n  'label': '_I_Fragment of sentences of Jacques Fournier',\n  'language': 'eng',\n  'detail': 'Fragment of sentences of Jacques Fournier, 1320.',\n  'data': {'parent': {'id': 'T0', 'order': 0}},\n  'props': [],\n  'notes': []},\n {'class': 'T',\n  'id': 'd9f69489-deef-42c0-9c0c-079fedae4ecd',\n  'label': '_I_Register DDD of the Carcassonne inquisition',\n  'language': 'eng',\n  'detail': 'Sentences 1323-1327 - Lodève, Pamiers, Carcassonne.',\n  'data': {'parent': {'id': 'T0', 'order': 0}},\n  'props': [],\n  'notes': []},\n {'class': 'T',\n  'id': 'fa1a8f71-53df-4d69-aa77-d3f7ecb05a22',\n  'label': '_I_Register GGG of the Carcassonne inquisition',\n  'language': 'eng',\n  'detail': 'Sentences 1328-1329 - Carcassonne, Prouille, Narbonne, Pamiers, Béziers.',\n  'data': {'parent': {'id': 'T0', 'order': 0}},\n  'props': [],\n  'notes': []},\n {'class': 'T',\n  'id': 'a6bf42f7-8f03-49b5-a304-8a3842d45e70',\n  'label': '_I_Hystoria Albigensis',\n  'language': 'lat',\n  'detail': 'A chronicle of the Albigensian Crusade by a famous Cistercian who participated in person in the wars.',\n  'data': {'parent': {'id': 'T0', 'order': 0}},\n  'props': [],\n  'notes': []},\n {'class': 'T',\n  'id': 'c1e06a20-b85c-4cf4-971b-6b606e7aaeff',\n  'label': '_I_Depositions of converted Good men III',\n  'language': 'eng',\n  'detail': 'Fragment of a lost register - deposition of William Furnerii from Toulouse, converted from heresy, from 1256.',\n  'data': {'parent': {'id': 'T0', 'order': 0}},\n  'props': [],\n  'notes': []},\n {'class': 'T',\n  'id': '7465e41a-2d73-4aca-9b40-03215e070994',\n  'label': '_I_Depositions of converted Good men IV',\n  'language': 'eng',\n  'detail': '',\n  'data': {'parent': {'id': 'T0', 'order': 0}},\n  'props': [],\n  'notes': []},\n {'class': 'T',\n  'id': 'a5709597-f20c-43ce-b664-1309837dc485',\n  'label': '_I_Process against Peter of Fenouillet',\n  'language': 'eng',\n  'detail': '',\n  'data': {'parent': {'id': 'T0', 'order': 0}},\n  'props': [],\n  'notes': []},\n {'class': 'T',\n  'id': '16ea6292-533e-4b4c-adfe-683649cbc19f',\n  'label': '_I_Register of Gallus of Neuhaus',\n  'language': 'eng',\n  'detail': 'A partial register (derived from five single folio fragments) of the Dominican inqusition in Bohemia.',\n  'data': {'parent': {'id': 'T0', 'order': 0}},\n  'props': [],\n  'notes': [\"Patschovsky's edition available online.\"]},\n {'class': 'T',\n  'id': '1341c337-8247-4458-9fdc-8b8523c6778a',\n  'label': '_I_Register of Peter Zwicker',\n  'language': 'eng',\n  'detail': 'Inquisition of the German Waldensians led by Peter Zwicker, the Celestine provincial prior of Germany/Bohemia',\n  'data': {'parent': {'id': 'T0', 'order': 0}},\n  'props': [],\n  'notes': []},\n {'class': 'T',\n  'id': '0146eaa3-671c-4f32-b00c-c3f1aea7cd67',\n  'label': '_I_Process against the Guglielmites',\n  'language': 'eng',\n  'detail': 'Quaternus imbriviaturarum Beltrami Salvagni. A register of depositions and other documents from the process against the Guglielmites in Milan, 1300.',\n  'data': {'parent': {'id': 'T0', 'order': 0}},\n  'props': [],\n  'notes': []},\n {'class': 'T',\n  'id': '1a7c63b0-dedd-4fc2-9522-3b80f6777c14',\n  'label': '_I_Register of Geoffrey Blyth',\n  'language': 'eng',\n  'detail': '',\n  'data': {'parent': {'id': 'T0', 'order': 0}},\n  'props': [],\n  'notes': []},\n {'class': 'T',\n  'id': '6806ad1f-7477-4543-b6bb-ba37f25667e2',\n  'label': '_I_Lichfield Court Book',\n  'language': 'eng',\n  'detail': '',\n  'data': {'parent': {'id': 'T0', 'order': 0}},\n  'props': [],\n  'notes': []},\n {'class': 'T',\n  'id': '8ac79e9f-6582-496e-a46e-ddb6b829ca23',\n  'label': '_I_Register of John Hales',\n  'language': 'eng',\n  'detail': '',\n  'data': {'parent': {'id': 'T0', 'order': 0}},\n  'props': [],\n  'notes': []},\n {'class': 'T',\n  'id': 'df2685f6-ef53-47ba-94b3-a6cd65a655d5',\n  'label': '_I_Letter of Geoffrey Blyth, Bishop of Coventry and Lichfield, to William Smith, Bishop of Lincoln',\n  'language': 'eng',\n  'detail': '',\n  'data': {'parent': {'id': 'T0', 'order': 0}},\n  'props': [],\n  'notes': []},\n {'class': 'T',\n  'id': '5253e7e2-8beb-470c-bf35-eac80b430905',\n  'label': '_I_Norwich Heresy Trials',\n  'language': 'eng',\n  'detail': '',\n  'data': {'parent': {'id': 'T0', 'order': 0}},\n  'props': [],\n  'notes': []},\n {'class': 'T',\n  'id': '2fa99c87-f923-49d2-95ae-6aaba91ebe7c',\n  'label': '_I_Register of William Warham, archbishop of Canterbury',\n  'language': 'eng',\n  'detail': '',\n  'data': {'parent': {'id': 'T0', 'order': 0}},\n  'props': [],\n  'notes': []},\n {'class': 'T',\n  'id': '03eae081-542a-422e-b788-5fc25ebd6db7',\n  'label': '_I_Trial records of Strasbourg Waldensians, 1400-1401',\n  'language': 'eng',\n  'detail': '',\n  'data': {'parent': {'id': 'T0', 'order': 0}},\n  'props': [],\n  'notes': []},\n {'class': 'T',\n  'id': '82b1c509-9bea-435d-a2da-d5d3993ce75a',\n  'label': '_I_Rehabilitation processes of Waldensians from Dauphiné',\n  'language': 'eng',\n  'detail': 'Collection of documents relative to the rehabilitation of inhabitants of Fressinière, Argentière, and Pragelato presented to Louis XII after the anti-heretical crusade of 1488.',\n  'data': {'parent': {'id': 'T0', 'order': 0}},\n  'props': [],\n  'notes': ['Benedetti, Santo bottino, 61 sqq. Early 16th c.']},\n {'class': 'T',\n  'id': 'fc07f2a1-c56f-4902-89ef-9342c86afde3',\n  'label': '_I_Processes against Waldensians in Dauphiné before 1488',\n  'language': 'eng',\n  'detail': '',\n  'data': {'parent': {'id': 'T0', 'order': 0}},\n  'props': [],\n  'notes': ['Benedetti, Santo bottino, 67.']},\n {'class': 'T',\n  'id': '5ce1ad46-03ce-41ae-b524-7a5bae246d89',\n  'label': '_I_Process against Conrad Huter and his family, Regensburg 1395',\n  'language': 'eng',\n  'detail': '',\n  'data': {'parent': {'id': 'T0', 'order': 0}},\n  'props': [],\n  'notes': []},\n {'class': 'T',\n  'id': '68a45c9c-f5c5-485f-bebf-d172b065180d',\n  'label': '_I_Process agains Fribourg Waldensians, 1399',\n  'language': 'eng',\n  'detail': '',\n  'data': {'parent': {'id': 'T0', 'order': 0}},\n  'props': [],\n  'notes': ['Edition Utz Tremp, 200 available online.']},\n {'class': 'T',\n  'id': 'd3704a4d-7380-4adc-bd87-fe7509b53c65',\n  'label': '_I_Process agains Fribourg Waldensians, 1430',\n  'language': 'eng',\n  'detail': '',\n  'data': {'parent': {'id': 'T0', 'order': 0}},\n  'props': [],\n  'notes': []},\n {'class': 'T',\n  'id': '5cee9b50-6235-4003-a9b6-c12a267df4db',\n  'label': '_I_Liber Electorum',\n  'language': 'lat',\n  'detail': '',\n  'data': {'parent': {'id': 'T0', 'order': 0}},\n  'props': [],\n  'notes': []},\n {'class': 'T',\n  'id': 'c3c8327a-9463-4f9d-8c4c-0a0af81a0e4c',\n  'label': '_I_Las Tribulacions Text A',\n  'language': 'oci',\n  'detail': '',\n  'data': {'parent': {'id': 'T0', 'order': 0}},\n  'props': [],\n  'notes': []},\n {'class': 'T',\n  'id': '75d787de-9250-48de-8a45-231a9d1f344c',\n  'label': '_I_Las Tribulacions Text B',\n  'language': 'oci',\n  'detail': '',\n  'data': {'parent': {'id': 'T0', 'order': 0}},\n  'props': [],\n  'notes': []},\n {'class': 'T',\n  'id': '28a3d3e6-f96e-4142-af44-4c2034d720c5',\n  'label': '_I_Las Tribulacions Text C',\n  'language': 'oci',\n  'detail': '',\n  'data': {'parent': {'id': 'T0', 'order': 0}},\n  'props': [],\n  'notes': []},\n {'class': 'T',\n  'id': 'e523cf21-a910-4a91-a8f5-34db8ee2794b',\n  'label': '_I_Las Tribulacions Text D',\n  'language': 'oci',\n  'detail': '',\n  'data': {'parent': {'id': 'T0', 'order': 0}},\n  'props': [],\n  'notes': []},\n {'class': 'T',\n  'id': 'b76f346a-1ea1-4255-ba29-51b24cd8bf4a',\n  'label': '_I_Las Tribulacions Text E',\n  'language': 'oci',\n  'detail': '',\n  'data': {'parent': {'id': 'T0', 'order': 0}},\n  'props': [],\n  'notes': []},\n {'class': 'T',\n  'id': 'c2a152fa-d577-4fb5-ab59-67184792aca9',\n  'label': '_I_Las Tribulacions Text F',\n  'language': 'oci',\n  'detail': '',\n  'data': {'parent': {'id': 'T0', 'order': 0}},\n  'props': [],\n  'notes': []},\n {'class': 'T',\n  'id': 'c2d9e1d7-ffbf-4f74-8ab2-d9e50ee769ff',\n  'label': '_I_Judici text A',\n  'language': 'oci',\n  'detail': '',\n  'data': {'parent': {'id': 'T0', 'order': 0}},\n  'props': [],\n  'notes': []},\n {'class': 'T',\n  'id': 'da9b3952-aea7-4cad-8e56-43460d6ac7c6',\n  'label': '_I_Judici text B',\n  'language': 'oci',\n  'detail': '',\n  'data': {'parent': {'id': 'T0', 'order': 0}},\n  'props': [],\n  'notes': []},\n {'class': 'T',\n  'id': '7a045d5c-15c9-48ef-8c8b-efc4b7b876a6',\n  'label': '_I_Judici text C',\n  'language': 'oci',\n  'detail': '',\n  'data': {'parent': {'id': 'T0', 'order': 0}},\n  'props': [],\n  'notes': []},\n {'class': 'T',\n  'id': '1fb4d717-7698-4dee-b93a-f19db0ae8002',\n  'label': '_I_La Barca',\n  'language': 'oci',\n  'detail': '',\n  'data': {'parent': {'id': 'T0', 'order': 0}},\n  'props': [],\n  'notes': []},\n {'class': 'T',\n  'id': '7b7f0cac-7df9-4ac8-9d00-a9aad80a08b5',\n  'label': '_I_Lo Novel Sermon',\n  'language': 'oci',\n  'detail': '',\n  'data': {'parent': {'id': 'T0', 'order': 0}},\n  'props': [],\n  'notes': []},\n {'class': 'T',\n  'id': 'd0c7ad2a-c89a-4ef3-9f44-1cc1bc5931ed',\n  'label': '_I_Lo Novel Confort',\n  'language': 'oci',\n  'detail': '',\n  'data': {'parent': {'id': 'T0', 'order': 0}},\n  'props': [],\n  'notes': []},\n {'class': 'T',\n  'id': '8a1d7d1c-93cd-49f2-8dc0-19acc2d8065d',\n  'label': '_I_Lo Payre Eternal',\n  'language': 'oci',\n  'detail': '',\n  'data': {'parent': {'id': 'T0', 'order': 0}},\n  'props': [],\n  'notes': []},\n {'class': 'T',\n  'id': '630f286d-f9df-41a6-aa0d-9541d63dc802',\n  'label': '_I_Lo Despreczi del Mont',\n  'language': 'oci',\n  'detail': '',\n  'data': {'parent': {'id': 'T0', 'order': 0}},\n  'props': [],\n  'notes': []},\n {'class': 'T',\n  'id': 'b278e3e2-2d1f-4c81-bfe2-5af6625d7360',\n  'label': \"_I_L'Evangeli de li quatre Semencz\",\n  'language': 'oci',\n  'detail': '',\n  'data': {'parent': {'id': 'T0', 'order': 0}},\n  'props': [],\n  'notes': []},\n {'class': 'T',\n  'id': 'af64c9d4-5fed-4ab6-9ea5-30b733710ea9',\n  'label': '_I_Confession of Iohannes Leser',\n  'language': 'eng',\n  'detail': 'Iohannes Leser confessus. ',\n  'data': {'parent': {'id': 'T0', 'order': 0}},\n  'props': [],\n  'notes': []},\n {'class': 'T',\n  'id': '3382e3aa-fd47-4ece-8e2b-2e86b683e2dd',\n  'label': '_I_Letter of converted Waldensian brethren',\n  'language': 'eng',\n  'detail': '',\n  'data': {'parent': {'id': 'T0', 'order': 0}},\n  'props': [],\n  'notes': []},\n {'class': 'T',\n  'id': 'c6406aa8-2d33-47c7-81ca-2d3cfca2da28',\n  'label': '_I_Letter of the Waldensian brethren of St Peter-in-der-Awe',\n  'language': 'eng',\n  'detail': '',\n  'data': {'parent': {'id': 'T0', 'order': 0}},\n  'props': [],\n  'notes': []},\n {'class': 'T',\n  'id': 'd61e0f7e-7a2f-439c-8eed-1cb3e6261b96',\n  'label': '_I_Letter of the Waldensian brethren from Italy I',\n  'language': 'eng',\n  'detail': 'Epistola fratrum de Ytalia I. ',\n  'data': {'parent': {'id': 'T0', 'order': 0}},\n  'props': [],\n  'notes': []},\n {'class': 'T',\n  'id': 'e448a062-7696-467e-ae84-9d91b89b7e57',\n  'label': '_I_Letter of the Waldensian brethren from Italy II',\n  'language': 'eng',\n  'detail': 'Epistola fratrum de Ytalia II. ',\n  'data': {'parent': {'id': 'T0', 'order': 0}},\n  'props': [],\n  'notes': []},\n {'class': 'T',\n  'id': '7692ede0-0627-41b9-bc77-c640ea8e9451',\n  'label': '_I_Letter of Iohannes Leser I',\n  'language': 'eng',\n  'detail': 'Epistola Johannis Leser I. ',\n  'data': {'parent': {'id': 'T0', 'order': 0}},\n  'props': [],\n  'notes': []},\n {'class': 'T',\n  'id': 'b7f4d59a-11c5-449b-8ab5-4486c23d568d',\n  'label': '_I_Letter of the Waldensian brethren from Italy III',\n  'language': 'eng',\n  'detail': 'Epistola fratrum de Ytalia III. ',\n  'data': {'parent': {'id': 'T0', 'order': 0}},\n  'props': [],\n  'notes': []},\n {'class': 'T',\n  'id': '0be5428c-6b67-44ec-9dcb-55dfd921b586',\n  'label': '_I_Answer of Sigfrid',\n  'language': 'eng',\n  'detail': 'Responsio Seyfridi. ',\n  'data': {'parent': {'id': 'T0', 'order': 0}},\n  'props': [],\n  'notes': []},\n {'class': 'T',\n  'id': '9ce89004-ccbf-4986-be5d-966e64506e11',\n  'label': '_I_Letter of Iohannes Leser II',\n  'language': 'eng',\n  'detail': 'Epistola Johannis Leser II. ',\n  'data': {'parent': {'id': 'T0', 'order': 0}},\n  'props': [],\n  'notes': []},\n {'class': 'T',\n  'id': '44952299-57b9-4ae5-b902-b48c24bdccf7',\n  'label': '_I_Nobla leyczon',\n  'language': 'oci',\n  'detail': '',\n  'data': {'parent': {'id': 'T0', 'order': 0}},\n  'props': [],\n  'notes': []},\n {'class': 'T',\n  'id': '645fc1e3-e398-48e1-be29-ec4b8731a086',\n  'label': '_I_Process against heretics in Piedmont by Antonio of Settimo, 1387-1388',\n  'language': 'eng',\n  'detail': 'Processus contra Valdenses, Pauperes quos dixere de Lugduno aliosque hereticos Fraticellosque per Fratrem Antonium de Septo de Savilliano, ordinis Predicatorum, inquisitorem heretice pravitatis in Lombardia Superiori et Marchia Ianuensi, potissimum Pinarolii facti anno MCCCLXXXVII et MCCCLXXXVII. ',\n  'data': {'parent': {'id': 'T0', 'order': 0}},\n  'props': [],\n  'notes': ['partial',\n   'partial',\n   \"F. Novotný: ca. 30 deponents (perhaps this is for Antonio's and Tomasso's processes combined) and many more mentioned. The last two in 1388, Antonio Galosna and Giacomo Bech: the most obscenities and quite forced.\\n\"]},\n {'class': 'T',\n  'id': '85300271-4809-496f-8ba0-6456a067fffe',\n  'label': '_I_Process against heretics in Piedmont by Tomasso of Casasco, 1373',\n  'language': 'eng',\n  'detail': 'Processus contra Valdenses, Pauperes quos dixere de Lugduno aliosque hereticos Fraticellosque per fratrem Thomam de Casasco, ordinis Predicatorum, inquisitorem in Lombardia Superiori et Marchia Ianuensi, habiti precipue Lancei in diocesi quoque Taurinensi ab anno MCCCLXXIII ad annum MCCCLXXXVIII. ',\n  'data': {'parent': {'id': 'T0', 'order': 0}},\n  'props': [],\n  'notes': []},\n {'class': 'T',\n  'id': '16b5a134-c1b5-4942-84e8-64a872142828',\n  'label': '_I_Register of the inquisition of Bologna from the late 14th c.',\n  'language': 'eng',\n  'detail': '',\n  'data': {'parent': {'id': 'T0', 'order': 0}},\n  'props': [],\n  'notes': []},\n {'class': 'T',\n  'id': 'e7076431-d298-448e-a936-aab1f1adc47b',\n  'label': '_I_Process against heretics in Giaveno by Alberto de Castellario, 1335',\n  'language': 'eng',\n  'detail': '',\n  'data': {'parent': {'id': 'T0', 'order': 0}},\n  'props': [],\n  'notes': []},\n {'class': 'T',\n  'id': '52f841a6-d037-490f-a2a8-f6f34db11d5d',\n  'label': '_I_Book of sentences of Orvieto',\n  'language': 'eng',\n  'detail': '',\n  'data': {'parent': {'id': 'T0', 'order': 0}},\n  'props': [],\n  'notes': []},\n {'class': 'T',\n  'id': '2709b370-d80f-4abe-8c94-9f1f27269e30',\n  'label': '_I_Acta Sancti Officii Bononie ab anno 1291 usque ad annum 1310',\n  'language': 'lat',\n  'detail': '',\n  'data': {'parent': {'id': 'T0', 'order': 0}},\n  'props': [],\n  'notes': []},\n {'class': 'T',\n  'id': '000c6a58-8a09-4931-9a75-6652855ec9ef',\n  'label': '_I_Collectoria 133',\n  'language': 'lat',\n  'detail': 'Broad collection of documents on the functioning of the inquisition, mainly its accounts (fines received, expenditures...). Depositions just completely marginally.',\n  'data': {'parent': {'id': 'T0', 'order': 0}},\n  'props': [],\n  'notes': []},\n {'class': 'T',\n  'id': '6cee8315-2b19-442f-b8b2-4a398269e81d',\n  'label': '_I_Interrogatio Iohannis',\n  'language': 'lat',\n  'detail': 'A 12th-c. Cathar (Bogomil?) apocryphon on the origins of the word, creation of men, and the end of times.',\n  'data': {'parent': {'id': 'T0', 'order': 0}},\n  'props': [],\n  'notes': []},\n {'class': 'T',\n  'id': '455a5bc6-5a05-464c-8190-5a26aac800de',\n  'label': '_I_Rationes of the inquisitor Francesco of Pocapaglia',\n  'language': 'lat',\n  'detail': '',\n  'data': {'parent': {'id': 'T0', 'order': 0}},\n  'props': [],\n  'notes': ['in extracto']},\n {'class': 'T',\n  'id': '567fba86-ec9b-4051-b5d2-dd18410f572a',\n  'label': '_I_Chronica Landulphi Maioris',\n  'language': 'lat',\n  'detail': '',\n  'data': {'parent': {'id': 'T0', 'order': 0}},\n  'props': [],\n  'notes': []},\n {'class': 'T',\n  'id': 'e7afa797-7e6e-469b-8259-acde939699e5',\n  'label': '_I_Historiarum Libri Quinque',\n  'language': 'lat',\n  'detail': '',\n  'data': {'parent': {'id': 'T0', 'order': 0}},\n  'props': [],\n  'notes': []},\n {'class': 'T',\n  'id': '8d8319ca-dcae-4094-bfc9-967f1a8e1e06',\n  'label': '_I_Chronicon Aquitanicum et Francicum or Historia Francorum',\n  'language': 'lat',\n  'detail': '',\n  'data': {'parent': {'id': 'T0', 'order': 0}},\n  'props': [],\n  'notes': []},\n {'class': 'T',\n  'id': '9c5af78d-291e-400d-885b-3b4013dd02c5',\n  'label': '_I_Epistola Johannis monachi ad Olibam',\n  'language': 'lat',\n  'detail': '',\n  'data': {'parent': {'id': 'T0', 'order': 0}},\n  'props': [],\n  'notes': []},\n {'class': 'T',\n  'id': '81d31b3a-3c19-4e7b-a3b5-863a5a0ce3c9',\n  'label': '_I_Vita Gauzlini, abbatis Floriacensis monasterii',\n  'language': 'lat',\n  'detail': '',\n  'data': {'parent': {'id': 'T0', 'order': 0}},\n  'props': [],\n  'notes': []},\n {'class': 'T',\n  'id': '63f3267f-ee85-4d52-93d9-2abd6f6be68d',\n  'label': '_I_Cartularium monasterii sancti Petri Carnotensis',\n  'language': 'eng',\n  'detail': '',\n  'data': {'parent': {'id': 'T0', 'order': 0}},\n  'props': [],\n  'notes': []},\n {'class': 'T',\n  'id': '701032f7-7183-4187-8ab5-0f7a66395969',\n  'label': '_I_Vita Theodorici episcopi Aurelianensis',\n  'language': 'lat',\n  'detail': '',\n  'data': {'parent': {'id': 'T0', 'order': 0}},\n  'props': [],\n  'notes': []},\n {'class': 'T',\n  'id': 'd9d48b7a-d939-4a9a-b17c-c1e5b09900e6',\n  'label': '_I_Miracula Sancti Benedicti',\n  'language': 'lat',\n  'detail': '',\n  'data': {'parent': {'id': 'T0', 'order': 0}},\n  'props': [],\n  'notes': []},\n {'class': 'T',\n  'id': 'ad4f6bc2-3c44-435b-9ea1-c92d9ab56ef3',\n  'label': '_I_Chronicon Sancti Petri Vivi Senonensis',\n  'language': 'lat',\n  'detail': '',\n  'data': {'parent': {'id': 'T0', 'order': 0}},\n  'props': [],\n  'notes': []},\n {'class': 'T',\n  'id': '030ac62c-cde5-46f6-8e3c-f0162a06b3c0',\n  'label': '_I_Chronicon Turonense',\n  'language': 'lat',\n  'detail': '',\n  'data': {'parent': {'id': 'T0', 'order': 0}},\n  'props': [],\n  'notes': []},\n {'class': 'T',\n  'id': '08975c90-be67-407f-a16d-a900eef07573',\n  'label': '_I_Carta Roberti regis Francie',\n  'language': 'eng',\n  'detail': '',\n  'data': {'parent': {'id': 'T0', 'order': 0}},\n  'props': [],\n  'notes': []},\n {'class': 'T',\n  'id': '87290412-828b-43a7-bb31-11116f947cff',\n  'label': '_I_Historia Francie (a Roberto ad mortem Philippi I Regis)',\n  'language': 'lat',\n  'detail': '',\n  'data': {'parent': {'id': 'T0', 'order': 0}},\n  'props': [],\n  'notes': []},\n {'class': 'T',\n  'id': '8dba1a10-cca5-4f60-86ad-44a5a4d5cb9a',\n  'label': '_I_Epistola Baldvini Episcopi',\n  'language': 'lat',\n  'detail': '',\n  'data': {'parent': {'id': 'T0', 'order': 0}},\n  'props': [],\n  'notes': []},\n {'class': 'T',\n  'id': '5acfde11-7dff-4ac5-90e9-3bb354ca72be',\n  'label': '_I_Acta Synodi Atrebatensis',\n  'language': 'lat',\n  'detail': '',\n  'data': {'parent': {'id': 'T0', 'order': 0}},\n  'props': [],\n  'notes': []},\n {'class': 'T',\n  'id': 'e154b74f-7104-4653-937b-94313056cf36',\n  'label': '_I_Annales Melicenses',\n  'language': 'lat',\n  'detail': '',\n  'data': {'parent': {'id': 'T0', 'order': 0}},\n  'props': [],\n  'notes': []},\n {'class': 'T',\n  'id': '371a7243-783a-4d96-96be-2573be131ace',\n  'label': '_I_Annalista Saxo',\n  'language': 'lat',\n  'detail': '',\n  'data': {'parent': {'id': 'T0', 'order': 0}},\n  'props': [],\n  'notes': []},\n {'class': 'T',\n  'id': '59d14d48-f1bd-4941-92a9-db94b93ce99d',\n  'label': '_I_Chronicon Bernoldi',\n  'language': 'lat',\n  'detail': '',\n  'data': {'parent': {'id': 'T0', 'order': 0}},\n  'props': [],\n  'notes': []},\n {'class': 'T',\n  'id': '74d94166-57c1-41e2-9bb6-6ee0687ffb91',\n  'label': '_I_Herimanni Augiensis Chronicon',\n  'language': 'lat',\n  'detail': '',\n  'data': {'parent': {'id': 'T0', 'order': 0}},\n  'props': [],\n  'notes': []},\n {'class': 'T',\n  'id': '66a6df74-fe56-463c-9550-a801e4841b0d',\n  'label': '_I_Lamberti Hersfeldensis Annales',\n  'language': 'lat',\n  'detail': '',\n  'data': {'parent': {'id': 'T0', 'order': 0}},\n  'props': [],\n  'notes': []},\n {'class': 'T',\n  'id': 'edd53bfb-0767-4d70-93aa-cb08d609498a',\n  'label': '_I_Gesta episcoporum Tungrensium, Traiectensium, et Leodiensium',\n  'language': 'lat',\n  'detail': '',\n  'data': {'parent': {'id': 'T0', 'order': 0}},\n  'props': [],\n  'notes': []},\n {'class': 'T',\n  'id': '8fee0c89-fc7b-4325-ac6e-1e9549dfce32',\n  'label': '_I_Historia dedicationis ecclesiae Sancti Remigii apud Remos',\n  'language': 'lat',\n  'detail': '',\n  'data': {'parent': {'id': 'T0', 'order': 0}},\n  'props': [],\n  'notes': []},\n {'class': 'T',\n  'id': 'c84b2159-af87-40da-9bc6-7964891346a5',\n  'label': '_I_epistola monachi Heriberti',\n  'language': 'eng',\n  'detail': '',\n  'data': {'parent': {'id': 'T0', 'order': 0}},\n  'props': [],\n  'notes': []},\n {'class': 'T',\n  'id': '87b4e191-e3db-4d5f-a369-b11c6154d3d2',\n  'label': '_I_carta Guillelmi ducis Aquitanie',\n  'language': 'eng',\n  'detail': '',\n  'data': {'parent': {'id': 'T0', 'order': 0}},\n  'props': [],\n  'notes': []},\n {'class': 'T',\n  'id': 'bb92e908-9b84-4a32-9668-cc41014f2872',\n  'label': '_I_Deliberatio supra hymnum trium puerorum',\n  'language': 'lat',\n  'detail': '',\n  'data': {'parent': {'id': 'T0', 'order': 0}},\n  'props': [],\n  'notes': []},\n {'class': 'T',\n  'id': 'b0785483-1b52-4768-b579-0279ed046b17',\n  'label': '_I_Liber Miraculorum Sancte Fidis',\n  'language': 'lat',\n  'detail': '',\n  'data': {'parent': {'id': 'T0', 'order': 0}},\n  'props': [],\n  'notes': []},\n {'class': 'T',\n  'id': '511e2beb-2c74-45c9-832d-61cd5cbc87d5',\n  'label': '_I_Gesta Treverorum',\n  'language': 'lat',\n  'detail': '',\n  'data': {'parent': {'id': 'T0', 'order': 0}},\n  'props': [],\n  'notes': []},\n {'class': 'T',\n  'id': '5970d06d-07cc-49d0-b0d8-340258cac953',\n  'label': '_I_Annales Trevirenses',\n  'language': 'lat',\n  'detail': '',\n  'data': {'parent': {'id': 'T0', 'order': 0}},\n  'props': [],\n  'notes': []},\n {'class': 'T',\n  'id': '2162f15e-4774-485b-98f2-a3fa62e414ec',\n  'label': '_I_Codex Udalrici',\n  'language': 'lat',\n  'detail': 'set of letters etc.',\n  'data': {'parent': {'id': 'T0', 'order': 0}},\n  'props': [],\n  'notes': []},\n {'class': 'T',\n  'id': '388f32ac-2724-423d-8163-a7ecfd018d9c',\n  'label': '_I_Vita Norberti archiepiscopi Magdeburgensis (Vita A)',\n  'language': 'lat',\n  'detail': '',\n  'data': {'parent': {'id': 'T0', 'order': 0}},\n  'props': [],\n  'notes': []},\n {'class': 'T',\n  'id': '909b8029-7b5f-4ef7-97b1-5046272e736f',\n  'label': '_I_Vita Norberti ab auctore posteriore (Vita B)',\n  'language': 'lat',\n  'detail': '',\n  'data': {'parent': {'id': 'T0', 'order': 0}},\n  'props': [],\n  'notes': []},\n {'class': 'T',\n  'id': '263a0f1e-9357-4c49-8f9d-74e977f0feee',\n  'label': '_I_diploma of Hidolf, provost of the chapter at Antwerp',\n  'language': 'eng',\n  'detail': '',\n  'data': {'parent': {'id': 'T0', 'order': 0}},\n  'props': [],\n  'notes': []},\n {'class': 'T',\n  'id': '3a66c9f0-7508-4636-b7ff-a0290c0f11c4',\n  'label': '_I_diploma of Burchard, bishop of Cambrai',\n  'language': 'eng',\n  'detail': '',\n  'data': {'parent': {'id': 'T0', 'order': 0}},\n  'props': [],\n  'notes': []},\n {'class': 'T',\n  'id': '4c270ecc-6d3c-4018-bce4-deb8b225148d',\n  'label': '_I_Sigeberti Gemblacensis Continuatio Praemonstratensis',\n  'language': 'lat',\n  'detail': '',\n  'data': {'parent': {'id': 'T0', 'order': 0}},\n  'props': [],\n  'notes': []},\n {'class': 'T',\n  'id': 'e2f8363a-2354-4c64-8d69-2a536931f1de',\n  'label': '_I_Sigeberti Gemblacensis Continuatio Valcellensis',\n  'language': 'lat',\n  'detail': '',\n  'data': {'parent': {'id': 'T0', 'order': 0}},\n  'props': [],\n  'notes': []},\n {'class': 'T',\n  'id': 'da55397e-08c0-462c-a9e2-a7fa7e7ca03a',\n  'label': '_I_Introductio ad theologiam',\n  'language': 'lat',\n  'detail': '',\n  'data': {'parent': {'id': 'T0', 'order': 0}},\n  'props': [],\n  'notes': []},\n {'class': 'T',\n  'id': '04800d24-ba65-491b-9b8e-a0a4c333bc6c',\n  'label': '_I_De vita sua sive Monodiae',\n  'language': 'lat',\n  'detail': '',\n  'data': {'parent': {'id': 'T0', 'order': 0}},\n  'props': [],\n  'notes': []},\n {'class': 'T',\n  'id': '9dec8dcd-d0d8-43ce-8c17-75e503deb4bb',\n  'label': '_I_Sigeberti Continuatio Gemblacensis',\n  'language': 'lat',\n  'detail': '',\n  'data': {'parent': {'id': 'T0', 'order': 0}},\n  'props': [],\n  'notes': []},\n {'class': 'T',\n  'id': 'd1deaf8a-0705-4d98-a812-9b5e72a65254',\n  'label': '_I_Historia Rerum Anglicarum',\n  'language': 'lat',\n  'detail': '',\n  'data': {'parent': {'id': 'T0', 'order': 0}},\n  'props': [],\n  'notes': []},\n {'class': 'T',\n  'id': '2223112c-7a7e-4d50-a31f-4d4af60c1b98',\n  'label': '_I_Annales Parchenses',\n  'language': 'lat',\n  'detail': '',\n  'data': {'parent': {'id': 'T0', 'order': 0}},\n  'props': [],\n  'notes': []},\n {'class': 'T',\n  'id': '2eb9910b-15ac-4807-97ed-4c7906ef0a86',\n  'label': '_I_Annales Cameracenses',\n  'language': 'lat',\n  'detail': '',\n  'data': {'parent': {'id': 'T0', 'order': 0}},\n  'props': [],\n  'notes': []},\n {'class': 'T',\n  'id': '30bb45ae-73bd-47dd-b22a-0884a041a1a7',\n  'label': '_I_Chronicon Britannicum',\n  'language': 'lat',\n  'detail': '',\n  'data': {'parent': {'id': 'T0', 'order': 0}},\n  'props': [],\n  'notes': []},\n {'class': 'T',\n  'id': 'ca334d2f-adee-46e2-929c-824ab6eb1e73',\n  'label': '_I_Verbum abbreviatum',\n  'language': 'lat',\n  'detail': '',\n  'data': {'parent': {'id': 'T0', 'order': 0}},\n  'props': [],\n  'notes': []},\n {'class': 'T',\n  'id': '8004452c-82f8-4e9f-9c51-141a7ace1d5d',\n  'label': '_I_Verbum abbreviatum textus alter',\n  'language': 'lat',\n  'detail': '',\n  'data': {'parent': {'id': 'T0', 'order': 0}},\n  'props': [],\n  'notes': []},\n {'class': 'T',\n  'id': 'e1e7846c-c6ee-4402-9bf2-2580c8eff88c',\n  'label': '_I_Annales Magdeburgenses',\n  'language': 'lat',\n  'detail': '',\n  'data': {'parent': {'id': 'T0', 'order': 0}},\n  'props': [],\n  'notes': []},\n {'class': 'T',\n  'id': '92fbda24-6f1e-4837-a6d4-853743aaa2e3',\n  'label': '_I_Gesta Friderici seu rectius Cronica',\n  'language': 'lat',\n  'detail': '',\n  'data': {'parent': {'id': 'T0', 'order': 0}},\n  'props': [],\n  'notes': []},\n {'class': 'T',\n  'id': '3e771f17-111e-4245-b610-958aa241999f',\n  'label': '_I_Annales Casinenses',\n  'language': 'lat',\n  'detail': '',\n  'data': {'parent': {'id': 'T0', 'order': 0}},\n  'props': [],\n  'notes': []},\n {'class': 'T',\n  'id': '2c9a1b7a-86df-49e1-ad6b-8f0c2a411131',\n  'label': '_I_Balduini Ninoviensis Chronicon',\n  'language': 'lat',\n  'detail': '',\n  'data': {'parent': {'id': 'T0', 'order': 0}},\n  'props': [],\n  'notes': []},\n {'class': 'T',\n  'id': '0cf1dc07-4bb3-491c-ab0d-63c3aa4b28a1',\n  'label': '_I_Chronica Albicri monachi Trium Fontium, a monacho Novi Monasterii Hoiensis interpolata',\n  'language': 'lat',\n  'detail': '',\n  'data': {'parent': {'id': 'T0', 'order': 0}},\n  'props': [],\n  'notes': []},\n {'class': 'T',\n  'id': 'd74d6e09-ff6a-47a8-8033-6ce1860b854a',\n  'label': '_I_Roberti de Monte Cronica',\n  'language': 'lat',\n  'detail': '',\n  'data': {'parent': {'id': 'T0', 'order': 0}},\n  'props': [],\n  'notes': []},\n {'class': 'T',\n  'id': 'c4e1c85c-a8a0-4c97-a9c9-f60a3038a3af',\n  'label': '_I_Actus pontificum Cenomannis',\n  'language': 'lat',\n  'detail': '',\n  'data': {'parent': {'id': 'T0', 'order': 0}},\n  'props': [],\n  'notes': []},\n {'class': 'T',\n  'id': '45e721b3-5127-4171-aa3b-10bfd7d201f7',\n  'label': '_I_letter of Bernard of Clairvaux to count of Toulouse',\n  'language': 'eng',\n  'detail': '',\n  'data': {'parent': {'id': 'T0', 'order': 0}},\n  'props': [],\n  'notes': []},\n {'class': 'T',\n  'id': 'f228cdbc-b254-4554-9262-7ad77ce18bc1',\n  'label': '_I_Vita Sancti Bernardi Clarevallis abbatis',\n  'language': 'lat',\n  'detail': '',\n  'data': {'parent': {'id': 'T0', 'order': 0}},\n  'props': [],\n  'notes': []},\n {'class': 'T',\n  'id': 'f03574c2-6c00-4f21-a5d2-0e18b08a2468',\n  'label': '_I_Contra Henricum Scismaticum et hereticum',\n  'language': 'lat',\n  'detail': '',\n  'data': {'parent': {'id': 'T0', 'order': 0}},\n  'props': [],\n  'notes': []},\n {'class': 'T',\n  'id': 'bd82aacb-be2b-43b3-a7a9-f0a8c99824bd',\n  'label': '_I_Contra hereticos et schismaticos',\n  'language': 'lat',\n  'detail': '',\n  'data': {'parent': {'id': 'T0', 'order': 0}},\n  'props': [],\n  'notes': []},\n {'class': 'T',\n  'id': '5cc70488-f4e5-42fd-8843-c76fb2f9c3b7',\n  'label': '_I_letter of Hildebert of Lavardin',\n  'language': 'eng',\n  'detail': '',\n  'data': {'parent': {'id': 'T0', 'order': 0}},\n  'props': [],\n  'notes': []},\n {'class': 'T',\n  'id': '6d77739f-2cf7-4df3-ba12-d67c293350d9',\n  'label': '_I_Contra Petrobrusianos',\n  'language': 'lat',\n  'detail': '',\n  'data': {'parent': {'id': 'T0', 'order': 0}},\n  'props': [],\n  'notes': []},\n {'class': 'T',\n  'id': '033938ff-2461-41c4-995a-594993e1f725',\n  'label': '_I_Historia Pontificalis',\n  'language': 'lat',\n  'detail': '',\n  'data': {'parent': {'id': 'T0', 'order': 0}},\n  'props': [],\n  'notes': []},\n {'class': 'T',\n  'id': 'ee7db9f2-dc0f-4f22-a18a-e7517fe8d65d',\n  'label': '_I_letter of Evervin of Steinfeld to Bernard of Clairvaux',\n  'language': 'eng',\n  'detail': '',\n  'data': {'parent': {'id': 'T0', 'order': 0}},\n  'props': [],\n  'notes': []},\n {'class': 'T',\n  'id': '9822a359-9800-49e1-9387-e8d7fd437896',\n  'label': '_I_letter from Liège to pope',\n  'language': 'eng',\n  'detail': '',\n  'data': {'parent': {'id': 'T0', 'order': 0}},\n  'props': [],\n  'notes': []},\n {'class': 'T',\n  'id': '97d9f82d-d150-44ff-86d5-812dbd4270f6',\n  'label': '_I_Annales Aquenses',\n  'language': 'lat',\n  'detail': '',\n  'data': {'parent': {'id': 'T0', 'order': 0}},\n  'props': [],\n  'notes': []},\n {'class': 'T',\n  'id': '47978b97-9d0b-47b4-aaee-8138fb0a5d12',\n  'label': '_I_Annales Rodenses',\n  'language': 'lat',\n  'detail': '',\n  'data': {'parent': {'id': 'T0', 'order': 0}},\n  'props': [],\n  'notes': []},\n {'class': 'T',\n  'id': 'c3097a13-4481-4a8a-9651-cbe0752a5e61',\n  'label': '_I_Centurie Magdeburgice',\n  'language': 'lat',\n  'detail': '',\n  'data': {'parent': {'id': 'T0', 'order': 0}},\n  'props': [],\n  'notes': []}]"
     },
     "execution_count": 351,
     "metadata": {},
     "output_type": "execute_result"
    }
   ],
   "source": [
    "cp.parsers['texts'].js_objects"
   ],
   "metadata": {
    "collapsed": false,
    "pycharm": {
     "name": "#%%\n"
    }
   }
  },
  {
   "cell_type": "markdown",
   "source": [
    "**Goal:**  to have a json file full of territories, which will be added to the mock up actants.json file and inserted to RethinkDb and fully visisble, accessible in inkVisitor.\n",
    "\n",
    "Steps\n",
    " * study the mockup actants.json structure  DONE\n",
    " * prepare a code intepreting and operatinalizing David's import instruction in the header_df  DONE\n",
    " * parse the table to the territories.json\n",
    "   * helper class for \"territory\", which fills default values\n",
    "   *\n",
    " * merge json files\n",
    " * import ...\n",
    "\n",
    "Forseen complexities\n",
    " * '#' hash notation, so called *multiples*, in the id fields, C2015#C0156. ...\n",
    " * '~' tilda notation\n",
    " * SOLVED, urls in cell (formula =HYPERLINK), SOLVED in Dator class\n"
   ],
   "metadata": {
    "collapsed": false,
    "pycharm": {
     "name": "#%% md\n"
    }
   }
  },
  {
   "cell_type": "code",
   "execution_count": 352,
   "outputs": [
    {
     "name": "stdout",
     "output_type": "stream",
     "text": [
      "{\"class\": \"T\", \"id\": \"245be591-88ec-4ee6-b100-6fa2de9bf795\", \"label\": \"_I_Process against Bernard Niort and his family\", \"language\": \"eng\", \"detail\": \"Early 1234.\", \"data\": {\"parent\": {\"id\": \"T0\", \"order\": 0}}, \"props\": [], \"notes\": [\"Douais has a partial ed. Bruschi \\u2013 Biller (eds.), Texts and the Repression of Medieval Heresy\\u2026, 13, n. 28, and Bruschi, The Wandering Heretics\\u2026, 4, refer to the ed. of the whole vol. 21 in preparation by J\\u00f6rg Feuchter, but the project seems discontinued.\"]}\n"
     ]
    }
   ],
   "source": [
    "print(json.dumps(cp.parsers['texts'].js_objects[0]))"
   ],
   "metadata": {
    "collapsed": false,
    "pycharm": {
     "name": "#%%\n"
    }
   }
  },
  {
   "cell_type": "markdown",
   "source": [
    "Steps\n",
    " * get json string and save it as file\n",
    " * merge with existing entities.json"
   ],
   "metadata": {
    "collapsed": false,
    "pycharm": {
     "name": "#%% md\n"
    }
   }
  },
  {
   "cell_type": "code",
   "execution_count": 354,
   "outputs": [],
   "source": [
    "# save json object list in the text file\n",
    "with open('../datasets/all-test/new_entities.json', 'w', encoding='utf-8') as f:\n",
    "    #f.write(str(cp.parsers['texts'].js_objects))\n",
    "    json.dump(cp.parsers['texts'].js_objects, f)\n",
    "\n",
    "# read  entities.json\n",
    "with open('../datasets/all/entities.json','r') as f:\n",
    "    #entities_content = f.readlines()\n",
    "    entities_content = f.read().replace('\\n', '')\n",
    "\n",
    "# read  entities.json\n",
    "with open('../datasets/all-test/new_entities.json','r') as f:\n",
    "    #entities_content = f.readlines()\n",
    "    new_entities_content = f.read().replace('\\n', '')\n",
    "\n",
    "\n",
    "# write new\n",
    "with open('../datasets/all-test/entities.json','w', encoding='utf-8') as f:\n",
    "    #merge_content = entities_content[0:-1] +  str(cp.parsers['texts'].js_objects)[1:]\n",
    "    merge_content = entities_content[0:-1] +\", \" + new_entities_content[1:]\n",
    "    f.write(str(merge_content))"
   ],
   "metadata": {
    "collapsed": false,
    "pycharm": {
     "name": "#%%\n"
    }
   }
  },
  {
   "cell_type": "code",
   "execution_count": null,
   "outputs": [],
   "source": [],
   "metadata": {
    "collapsed": false,
    "pycharm": {
     "name": "#%%\n"
    }
   }
  }
 ],
 "metadata": {
  "kernelspec": {
   "display_name": "python38",
   "language": "python",
   "name": "python38"
  },
  "language_info": {
   "codemirror_mode": {
    "name": "ipython",
    "version": 3
   },
   "file_extension": ".py",
   "mimetype": "text/x-python",
   "name": "python",
   "nbconvert_exporter": "python",
   "pygments_lexer": "ipython3",
   "version": "3.8.12"
  }
 },
 "nbformat": 4,
 "nbformat_minor": 1
}