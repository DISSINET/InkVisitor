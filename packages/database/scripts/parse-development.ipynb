{
 "cells": [
  {
   "cell_type": "markdown",
   "metadata": {
    "pycharm": {
     "name": "#%% md\n"
    }
   },
   "source": [
    "# Parse development notebook\n",
    "\n",
    "### Notebook purpose\n",
    "This notebook is development space for python parse.ts replacement and upgrade.\n",
    "It reads specified google sheets and output actants.json file, which can be imported to inkVisitor RethinkDB.py\n",
    "\n",
    "The aggreated doc for dev: https://docs.google.com/document/d/1ga6R_9TWAQlXE9XqPE_qZ2S8S8aVW2A7n8SuYpSXnoI/edit#heading=h.q9ntf0ofam2u\n",
    "The holy schema: https://app.diagrams.net/#G1bKvqEKr6JzPWryVg-vYudQy_4KvuzHS9\n",
    "\n",
    "### Prerequisites\n",
    " * generated json schema for all used objects (run generate-json-schemas.py)\n",
    "\n",
    "### JSon schemas for the actants\n",
    "...\n",
    "..."
   ]
  },
  {
   "cell_type": "markdown",
   "metadata": {},
   "source": [
    "### The import tables:\n",
    " * Texts\n",
    " * Manuscripts (must be done alongside T, David thinks) = O of class defined by col. class_id\n",
    "   * will have legacyId M\n",
    "   * Prostě je přeparsujeme na O s metaprop \"has - class - manuscript codex\" (see class_id)\n",
    "   *\n",
    " * Resources\n",
    " * Concepts\n",
    " * Actions\n",
    "\n",
    "... and  **VALUES** (virtual dataset made / filled through the import and appended to the entities json at the end)\n",
    "\n",
    "### Notes\n",
    " * DONE: tables contain hyperlinks formulas, Dator was updated to handle them in resulting \"label|url\" format in the cells\n",
    " * input table contain multiples and input_values meant as VALUE entities (~V~something)\n",
    "\n",
    "### TODOS\n",
    "#### A\n",
    " * make code for creation of entity dataset, which will generate hash id, i.e. I need do NOT make relationt through legacyId\n",
    " *\n",
    "#### B\n",
    " * ..\n",
    " *\n",
    "#### C\n",
    " * ..\n",
    " *\n"
   ]
  },
  {
   "cell_type": "markdown",
   "source": [
    "**Goal:**  to have a json file full of territories, which will be added to the mock up actants.json file and inserted to RethinkDb and fully visisble, accessible in inkVisitor.\n",
    "\n",
    "Steps\n",
    " * study the mockup actants.json structure  DONE\n",
    " * prepare a code intepreting and operatinalizing David's import instruction in the header_df  DONE\n",
    " * parse the table to the territories.json\n",
    "   * helper class for \"territory\", which fills default values\n",
    "   *\n",
    " * merge json files\n",
    " * import ...\n",
    "\n",
    "Forseen complexities\n",
    " * '#' hash notation, so called *multiples*, in the id fields, C2015#C0156. ...\n",
    " * '~' tilda notation\n",
    " * SOLVED, urls in cell (formula =HYPERLINK), SOLVED in Dator class"
   ],
   "metadata": {
    "collapsed": false,
    "pycharm": {
     "name": "#%% md\n"
    }
   }
  },
  {
   "cell_type": "markdown",
   "metadata": {
    "pycharm": {
     "name": "#%% md\n"
    }
   },
   "source": [
    "### Input variables"
   ]
  },
  {
   "cell_type": "code",
   "execution_count": 339,
   "metadata": {
    "pycharm": {
     "name": "#%%\n"
    }
   },
   "outputs": [],
   "source": [
    "input_tables = [\"texts\", \"manuscripts\", \"resources\", \"actions\" , \"concepts\"]\n",
    "\n",
    "#                   sheet_name,  code, header_in_row\n",
    "input_sheets = {\n",
    "    \"texts\" : (\"Texts\",\"13eVorFf7J9R8YzO7TmJRVLzIIwRJS737r7eFbH1boyE\", 5), #https://docs.google.com/spreadsheets/d/13eVorFf7J9R8YzO7TmJRVLzIIwRJS737r7eFbH1boyE/edit#gid=2056508047\n",
    "    \"manuscripts\" : (\"Manuscripts\", \"13eVorFf7J9R8YzO7TmJRVLzIIwRJS737r7eFbH1boyE\", 5),\n",
    "    \"resources\" : (\"Resources\", \"13eVorFf7J9R8YzO7TmJRVLzIIwRJS737r7eFbH1boyE\", 5),\n",
    "    \"actions\" :  (\"Statements\",\"1vzY6opQeR9hZVW6fmuZu2sgy_izF8vqGGhBQDxqT_eQ\", 5), # https://docs.google.com/spreadsheets/d/1vzY6opQeR9hZVW6fmuZu2sgy_izF8vqGGhBQDxqT_eQ/edit#gid=0\n",
    "    \"concepts\" : (\"Concepts\",\"1nSqnN6cjtdWK-y6iKZlJv4iGdhgtqkRPus8StVgExP4\", 5) # https://docs.google.com/spreadsheets/d/1nSqnN6cjtdWK-y6iKZlJv4iGdhgtqkRPus8StVgExP4/edit#gid=0\n",
    "}\n",
    "\n",
    "table_to_entity = {\n",
    "    \"texts\" : \"ITerritory\",\n",
    "    \"manuscripts\" : \"IObject\",\n",
    "    \"resources\" : \"IResource\",\n",
    "    \"actions\" :  \"IAction\",\n",
    "    \"concepts\" : \"IConcept\"\n",
    "}\n",
    "\n",
    "root_sheet_url = \"https://docs.google.com/spreadsheets/d/\"\n",
    "google_api_dotenv_path = \"../env/.env.googleapi\"  # contains google api specs for sheet access with Dator\n",
    "schema_path = '../schemas/' # path for dir with schemas\n",
    "json_schemas = {}  # holder for schemas, so they can be used for jsonschema validate"
   ]
  },
  {
   "cell_type": "code",
   "execution_count": 405,
   "outputs": [
    {
     "data": {
      "text/plain": "CompletedProcess(args='python generate-json-schemas.py', returncode=0, stdout=b'typescript-json-schema ../../shared/types/actant.ts IActant --required --noExtraProps --defaultProps --id IActant --out ../schemas/IActant.schema.json\\r\\ntypescript-json-schema ../../shared/types/concept.ts IConcept --required --noExtraProps --defaultProps --id IConcept --out ../schemas/IConcept.schema.json\\r\\ntypescript-json-schema ../../shared/types/object.ts IObject --required --noExtraProps --defaultProps --id IObject --out ../schemas/IObject.schema.json\\r\\ntypescript-json-schema ../../shared/types/entity.ts IEntity --required --noExtraProps --defaultProps --id IEntity --out ../schemas/IEntity.schema.json\\r\\ntypescript-json-schema ../../shared/types/label.ts ILabel --required --noExtraProps --defaultProps --id ILabel --out ../schemas/ILabel.schema.json\\r\\ntypescript-json-schema ../../shared/types/statement.ts IStatement --required --noExtraProps --defaultProps --id IStatement --out ../schemas/IStatement.schema.json\\r\\ntypescript-json-schema ../../shared/types/territory.ts ITerritory --required --noExtraProps --defaultProps --id ITerritory --out ../schemas/ITerritory.schema.json\\r\\ntypescript-json-schema ../../shared/types/resource.ts IResource --required --noExtraProps --defaultProps --id IResource --out ../schemas/IResource.schema.json\\r\\ntypescript-json-schema ../../shared/types/prop.ts IProp --required --noExtraProps --defaultProps --id IProp --out ../schemas/IProp.schema.json\\r\\ntypescript-json-schema ../../shared/types/value.ts IValue --required --noExtraProps --defaultProps --id IValue --out ../schemas/IValue.schema.json\\r\\ntypescript-json-schema ../../shared/types/action.ts IAction --required --noExtraProps --defaultProps --id IAction --out ../schemas/IAction.schema.json\\r\\ntypescript-json-schema ../../shared/types/user.ts IUser --required --noExtraProps --defaultProps --id IUser --out ../schemas/IUser.schema.json\\r\\n', stderr=b'')"
     },
     "execution_count": 405,
     "metadata": {},
     "output_type": "execute_result"
    }
   ],
   "source": [
    "import subprocess\n",
    "subprocess.run(\"python generate-json-schemas.py\", shell=True,capture_output=True)"
   ],
   "metadata": {
    "collapsed": false,
    "pycharm": {
     "name": "#%%\n"
    }
   }
  },
  {
   "cell_type": "markdown",
   "metadata": {
    "pycharm": {
     "name": "#%% md\n"
    }
   },
   "source": [
    "### Libraries"
   ]
  },
  {
   "cell_type": "code",
   "execution_count": 341,
   "metadata": {
    "pycharm": {
     "name": "#%%\n"
    }
   },
   "outputs": [],
   "source": [
    "import os, warlock, json\n",
    "from datetime import datetime\n",
    "from jsonschema import validate\n",
    "import dissinetpytools.dator as dator\n",
    "from dotenv import load_dotenv\n",
    "\n",
    "import pandas as pd\n",
    "import warnings\n",
    "warnings.simplefilter(action='ignore', category=pd.errors.PerformanceWarning)\n",
    "\n",
    "import numpy as np\n",
    "from copy import deepcopy\n",
    "from shutil import copyfile\n",
    "\n",
    "import uuid\n",
    "\n",
    "def get_uuid_id():\n",
    "    return str(uuid.uuid4())\n",
    "\n",
    "def is_valid_uuid(val):\n",
    "    try:\n",
    "        uuid.UUID(str(val))\n",
    "        return True\n",
    "    except ValueError:\n",
    "        return False\n",
    "\n",
    "\n",
    "# type hinting\n",
    "from collections.abc import Sequence, Callable\n",
    "from typing import List, Dict, Tuple\n"
   ]
  },
  {
   "cell_type": "markdown",
   "metadata": {
    "pycharm": {
     "name": "#%% md\n"
    }
   },
   "source": [
    "### Initialisation"
   ]
  },
  {
   "cell_type": "code",
   "execution_count": 342,
   "metadata": {
    "pycharm": {
     "name": "#%%\n"
    }
   },
   "outputs": [
    {
     "name": "stdout",
     "output_type": "stream",
     "text": [
      "20 2022-03-08 23:13:02 : Google authentification start\n",
      "20 2022-03-08 23:13:02 : Google authentification end\n",
      "20 2022-03-08 23:13:02 : Dator initiation succesfull end\n"
     ]
    }
   ],
   "source": [
    "load_dotenv(google_api_dotenv_path) # fills os.environ['GDRIVE_API_CREDENTIALS']\n",
    "d = dator.Dator(loglevel=10, print_log_online=True, cache=True, project_name=\"inkvisitor-import\") # expects 'GDRIVE_API_CREDENTIALS' in the global system variables (os.environ)\n",
    "d.google_authenticate()\n",
    "logger = d.logger"
   ]
  },
  {
   "cell_type": "code",
   "execution_count": 343,
   "metadata": {
    "pycharm": {
     "name": "#%%\n"
    }
   },
   "outputs": [
    {
     "name": "stderr",
     "output_type": "stream",
     "text": [
      "2022-03-08 23:13:02,134 INFO Class IActant available.\n",
      "2022-03-08 23:13:02,143 INFO Class IAction available.\n",
      "2022-03-08 23:13:02,152 INFO Class IConcept available.\n",
      "2022-03-08 23:13:02,160 INFO Class IEntity available.\n",
      "2022-03-08 23:13:02,167 INFO Class ILabel available.\n",
      "2022-03-08 23:13:02,174 INFO Class IProp available.\n",
      "2022-03-08 23:13:02,182 INFO Class IResource available.\n",
      "2022-03-08 23:13:02,192 INFO Class IStatement available.\n",
      "2022-03-08 23:13:02,200 INFO Class ITerritory available.\n",
      "2022-03-08 23:13:02,209 INFO Class IUser available.\n",
      "2022-03-08 23:13:02,217 INFO Class IValue available.\n",
      "2022-03-08 23:13:02,218 INFO There are 11 json classes available (IActant IAction IConcept IEntity ILabel IProp IResource IStatement ITerritory IUser IValue).\n"
     ]
    }
   ],
   "source": [
    "# read all schemas inside and warlock them as globally available classes\n",
    "schema_filenames = os.listdir(schema_path)\n",
    "json_classes = {}\n",
    "for schema in schema_filenames:\n",
    "    name = schema.split(\".\")[0]\n",
    "    file_handler = open(schema_path + schema,\"r\")\n",
    "    schema_json = json.load(file_handler)\n",
    "    json_schemas[name] = schema_json\n",
    "    globals()[name] = warlock.model_factory(schema_json)\n",
    "    json_classes[name] = globals()[name]\n",
    "    logger.info(\"Class \" + name + \" available.\")\n",
    "\n",
    "logger.info(f\"There are {len(json_classes.keys())} json classes available ({' '.join(json_classes.keys())}).\")"
   ]
  },
  {
   "cell_type": "code",
   "execution_count": 344,
   "outputs": [
    {
     "name": "stderr",
     "output_type": "stream",
     "text": [
      "2022-03-08 23:13:02,247 INFO Class IAction validated.\n",
      "2022-03-08 23:13:02,252 INFO Class IConcept validated.\n",
      "2022-03-08 23:13:02,257 INFO Class IValue validated.\n",
      "2022-03-08 23:13:02,261 INFO Class IProp validated.\n",
      "2022-03-08 23:13:02,266 INFO Class IResource validated.\n",
      "2022-03-08 23:13:02,273 INFO Class IStatement validated.\n",
      "2022-03-08 23:13:02,279 INFO Class ITerritory validated.\n"
     ]
    }
   ],
   "source": [
    "# factory for making entity objects, contains defaults with \"prerequisities\"\n",
    "\n",
    "class InkVisitorJSONObjectFactory:\n",
    "\n",
    "    classes = json_classes\n",
    "\n",
    "    json_class_defaults = {\n",
    "        'IAction':{\n",
    "            'class':'A', 'id':'','legacyId':'', 'label':'', 'language':'', 'detail':'','data':{'entities':{'a1':[],'a2':[],'s':[]},'valencies':{'a1':'','a2':'','s':''}}, 'props':[], 'notes':[], 'status':'1', 'references':[]\n",
    "        },\n",
    "        'IConcept':{\n",
    "            'class':'C', 'id':'', 'legacyId':'','label':'', 'language':'', 'detail':'','data':{}, 'props':[], 'notes':[], 'status':'1', 'references':[]\n",
    "        },\n",
    "        'IValue':{\n",
    "            'class':'V', 'id':'', 'label':'', 'language':'', 'detail':'','data':{'logicalType':'4'}, 'props':[], 'notes':[], 'status':'1', 'references':[]\n",
    "        },\n",
    "        'IProp':{\n",
    "            'bundleEnd':False,'bundleStart':False, 'certainty':'1', 'children':[], 'elvl':'1',  'id':'', 'logic':'1', 'mood':[], 'moodvariant':'1', 'bundleOperator':'=', 'type': {'id':'','elvl':'1','logic':'1','partitivity':'1','virtuality':'1'},'value':{'id':'','elvl':'1', 'logic':'1', 'partitivity':'1', 'virtuality':'1'}\n",
    "        },\n",
    "        'IResource':{\n",
    "             'class':'R', 'id':'', 'label':'', 'language':'', 'detail':'','data':{'link':''}, 'props':[], 'notes':[], 'status':'1', 'references':[]\n",
    "        },\n",
    "        'IStatement':{\n",
    "             'class':'S', 'id':'', 'label':'', 'language':'', 'detail':'','data':{'actants':[], 'actions':[], 'references':[],'tags':[],'territory': {'id':'','order':0}, 'text':''}, 'props':[], 'notes':[], 'status':'1', 'references':[]\n",
    "        },\n",
    "        'ITerritory':{\n",
    "            'class':'T', 'id':'', 'legacyId':'','label':'', 'language':'', 'detail':'','data':{'parent':{ \"id\": \"T0\", \"order\": 0 }}, 'props':[], 'notes':[], 'status':'1', 'references':[]\n",
    "        },\n",
    "    }\n",
    "\n",
    "    def __init__(self):\n",
    "        pass\n",
    "\n",
    "    def make(self, entity_name, override_object=None):\n",
    "        if override_object is None:\n",
    "            override_object = {}\n",
    "        object = type(self).json_class_defaults[entity_name]\n",
    "        object.update(override_object)\n",
    "        return type(self).classes[entity_name](deepcopy(object))\n",
    "\n",
    "    def validate_defaults(self):\n",
    "        for e in self.json_class_defaults:\n",
    "            test = self.make(e, self.json_class_defaults[e])\n",
    "            d.logger.info(f\"Class {e} validated.\")\n",
    "\n",
    "\n",
    "IOF = InkVisitorJSONObjectFactory()\n",
    "IOF.validate_defaults()"
   ],
   "metadata": {
    "collapsed": false,
    "pycharm": {
     "name": "#%%\n"
    }
   }
  },
  {
   "cell_type": "markdown",
   "source": [
    "# Load input datasets"
   ],
   "metadata": {
    "collapsed": false,
    "pycharm": {
     "name": "#%% md\n"
    }
   }
  },
  {
   "cell_type": "code",
   "execution_count": 399,
   "metadata": {
    "pycharm": {
     "name": "#%%\n"
    }
   },
   "outputs": [
    {
     "name": "stderr",
     "output_type": "stream",
     "text": [
      "2022-03-09 07:59:33,034 INFO Calling for texts with sheet_name Texts.\n"
     ]
    },
    {
     "name": "stdout",
     "output_type": "stream",
     "text": [
      "20 2022-03-09 07:59:33 : Loading dataset Texts\n",
      "20 2022-03-09 07:59:33 : Opting for variant header at row 5.\n",
      "20 2022-03-09 07:59:39 : Hyperlinks were detected and transformed in columns ['edition_1', 'edition_2', 'edition_3', 'persons_index_link', 'places_index_link'].\n",
      "20 2022-03-09 07:59:39 : Dropping empty columns in the dataset Texts : (1011, 113)\n"
     ]
    },
    {
     "name": "stderr",
     "output_type": "stream",
     "text": [
      "2022-03-09 07:59:39,297 INFO Calling for manuscripts with sheet_name Manuscripts.\n"
     ]
    },
    {
     "name": "stdout",
     "output_type": "stream",
     "text": [
      "20 2022-03-09 07:59:39 : Deleted 869 empty rows by label.\n",
      "20 2022-03-09 07:59:39 : Loaded and prepared dataset Texts : (142, 113)\n",
      "20 2022-03-09 07:59:39 : Making pickle cache of  Texts with separeted header file : (142, 113)\n",
      "20 2022-03-09 07:59:39 : Loading dataset Manuscripts\n",
      "20 2022-03-09 07:59:39 : Opting for variant header at row 5.\n"
     ]
    },
    {
     "name": "stderr",
     "output_type": "stream",
     "text": [
      "2022-03-09 07:59:40,989 INFO Calling for resources with sheet_name Resources.\n"
     ]
    },
    {
     "name": "stdout",
     "output_type": "stream",
     "text": [
      "20 2022-03-09 07:59:40 : Hyperlinks were detected and transformed in columns ['reproduction_online_url', 'reproduction_note'].\n",
      "20 2022-03-09 07:59:40 : Dropping empty columns in the dataset Manuscripts : (999, 43)\n",
      "20 2022-03-09 07:59:40 : Deleted 860 empty rows by label.\n",
      "20 2022-03-09 07:59:40 : Loaded and prepared dataset Manuscripts : (139, 43)\n",
      "20 2022-03-09 07:59:40 : Making pickle cache of  Manuscripts with separeted header file : (139, 43)\n",
      "20 2022-03-09 07:59:41 : Loading dataset Resources\n",
      "20 2022-03-09 07:59:41 : Opting for variant header at row 5.\n"
     ]
    },
    {
     "name": "stderr",
     "output_type": "stream",
     "text": [
      "2022-03-09 07:59:42,468 INFO Calling for actions with sheet_name Statements.\n"
     ]
    },
    {
     "name": "stdout",
     "output_type": "stream",
     "text": [
      "20 2022-03-09 07:59:42 : Hyperlinks were detected and transformed in columns [].\n",
      "20 2022-03-09 07:59:42 : Dropping empty columns in the dataset Resources : (1000, 21)\n",
      "20 2022-03-09 07:59:42 : Deleted 934 empty rows by label.\n",
      "20 2022-03-09 07:59:42 : Loaded and prepared dataset Resources : (66, 21)\n",
      "20 2022-03-09 07:59:42 : Making pickle cache of  Resources with separeted header file : (66, 21)\n",
      "20 2022-03-09 07:59:42 : Loading dataset Statements\n",
      "20 2022-03-09 07:59:42 : Opting for variant header at row 5.\n",
      "20 2022-03-09 07:59:48 : Hyperlinks were detected and transformed in columns [].\n",
      "20 2022-03-09 07:59:48 : Dropping empty columns in the dataset Statements : (1030, 74)\n",
      "20 2022-03-09 07:59:48 : Deleted 588 empty rows by label.\n",
      "20 2022-03-09 07:59:48 : Loaded and prepared dataset Statements : (442, 74)\n",
      "20 2022-03-09 07:59:48 : Making pickle cache of  Statements with separeted header file : (442, 74)\n"
     ]
    },
    {
     "name": "stderr",
     "output_type": "stream",
     "text": [
      "2022-03-09 07:59:48,610 INFO Calling for concepts with sheet_name Concepts.\n"
     ]
    },
    {
     "name": "stdout",
     "output_type": "stream",
     "text": [
      "20 2022-03-09 07:59:49 : Loading dataset Concepts\n",
      "20 2022-03-09 07:59:49 : Opting for variant header at row 5.\n",
      "20 2022-03-09 07:59:53 : Hyperlinks were detected and transformed in columns [].\n",
      "20 2022-03-09 07:59:53 : Dropping empty columns in the dataset Concepts : (3011, 60)\n",
      "20 2022-03-09 07:59:53 : Deleted 634 empty rows by label.\n",
      "20 2022-03-09 07:59:53 : Loaded and prepared dataset Concepts : (2377, 60)\n",
      "20 2022-03-09 07:59:53 : Making pickle cache of  Concepts with separeted header file : (2377, 60)\n"
     ]
    }
   ],
   "source": [
    "# empty value unifier\n",
    "def unify_empty_value(df: pd.DataFrame, empty_values=None, unified_empty_value =''):\n",
    "    if empty_values is None:\n",
    "        empty_values = ['NA', \"#N/A\", \"#VALUE!\"]\n",
    "    for naner in empty_values:\n",
    "        df = df.replace(naner,unified_empty_value)\n",
    "    df. fillna(unified_empty_value, inplace=True)\n",
    "    return df\n",
    "\n",
    "\n",
    "\n",
    "# load all input tables\n",
    "tables = {}\n",
    "header_infos = {}\n",
    "for key, sheet in input_sheets.items():\n",
    "    logger.info(f\"Calling for {key} with sheet_name {sheet[0]}.\")\n",
    "    tables[key], header_infos[key] = d.load_df_from_gsheet(sheet[0],root_sheet_url + sheet[1], sheet[0], fromCache=True, header_in_row=sheet[2], clean=True, fillna=True, cleanByColumn=\"label\", parse_hyperlink_formulas=True)\n",
    "    tables[key] = unify_empty_value(tables[key])\n",
    "    header_infos[key] = unify_empty_value(header_infos[key])\n",
    "\n",
    "    # code for legacyId copy and uuid creation\n",
    "    tables[key]['legacyId'] = tables[key]['id'].copy()\n",
    "    # inform instructive header about the new column and what to do with it\n",
    "    header_infos[key]['legacyId'] = \"\"\n",
    "    header_infos[key].at[3,'legacyId'] = \"inside\"\n",
    "    tables[key]['id'] = tables[key].apply(lambda x: get_uuid_id(), axis=1)  # generate unique id for each row\n",
    "\n",
    "# making empty table of values\n",
    "tables['values'] = pd.DataFrame(columns=['id','value','origin'])"
   ]
  },
  {
   "cell_type": "code",
   "execution_count": 386,
   "outputs": [
    {
     "data": {
      "text/plain": "   status      id   label  detail language     wordnet_lemma_id  \\\n0                                           WordNet lemma (URI)   \n1                                                                 \n2                                                                 \n3  inside  inside  inside  inside   inside              inside?   \n\n          wordnet_synset_id  \\\n0  Wordnet meaning (synset)   \n1                             \n2                             \n3                   inside?   \n\n                                instance_entity_type DEPRECATED_supertype0  \\\n0  This was for automatic instantiation of deprec...                         \n1                                                                            \n2                                                                            \n3                                            discard               discard   \n\n  DEPRECATED_supertype1  ... related_entity_label related_entity_detail  \\\n0                        ...                                              \n1                        ...                                              \n2                        ...                                              \n3               discard  ...              discard               discard   \n\n  masterlists_column_name masterlists_column_value  \\\n0                                                    \n1                                                    \n2                                                    \n3                 discard                  discard   \n\n                                        text_example  \\\n0  Discard, because the examples (incl. exact ref...   \n1                                                      \n2                                                      \n3                                            discard   \n\n                                  note                       recommendation  \\\n0  Save as one item of the multi-note.  Save as one item of the multi-note.   \n1                                                                             \n2                                 note                                 note   \n3                               inside                               inside   \n\n  DEPRECATED_label_english                             parsing_rows_explained  \\\n0                           Comment - sometimes important to read for pars...   \n1                                                       \"origin\" (for props).   \n2                           Prop type (for props) or further detail (for i...   \n3                  discard                                            discard   \n\n  legacyId  \n0           \n1           \n2           \n3   inside  \n\n[4 rows x 61 columns]",
      "text/html": "<div>\n<style scoped>\n    .dataframe tbody tr th:only-of-type {\n        vertical-align: middle;\n    }\n\n    .dataframe tbody tr th {\n        vertical-align: top;\n    }\n\n    .dataframe thead th {\n        text-align: right;\n    }\n</style>\n<table border=\"1\" class=\"dataframe\">\n  <thead>\n    <tr style=\"text-align: right;\">\n      <th></th>\n      <th>status</th>\n      <th>id</th>\n      <th>label</th>\n      <th>detail</th>\n      <th>language</th>\n      <th>wordnet_lemma_id</th>\n      <th>wordnet_synset_id</th>\n      <th>instance_entity_type</th>\n      <th>DEPRECATED_supertype0</th>\n      <th>DEPRECATED_supertype1</th>\n      <th>...</th>\n      <th>related_entity_label</th>\n      <th>related_entity_detail</th>\n      <th>masterlists_column_name</th>\n      <th>masterlists_column_value</th>\n      <th>text_example</th>\n      <th>note</th>\n      <th>recommendation</th>\n      <th>DEPRECATED_label_english</th>\n      <th>parsing_rows_explained</th>\n      <th>legacyId</th>\n    </tr>\n  </thead>\n  <tbody>\n    <tr>\n      <th>0</th>\n      <td></td>\n      <td></td>\n      <td></td>\n      <td></td>\n      <td></td>\n      <td>WordNet lemma (URI)</td>\n      <td>Wordnet meaning (synset)</td>\n      <td>This was for automatic instantiation of deprec...</td>\n      <td></td>\n      <td></td>\n      <td>...</td>\n      <td></td>\n      <td></td>\n      <td></td>\n      <td></td>\n      <td>Discard, because the examples (incl. exact ref...</td>\n      <td>Save as one item of the multi-note.</td>\n      <td>Save as one item of the multi-note.</td>\n      <td></td>\n      <td>Comment - sometimes important to read for pars...</td>\n      <td></td>\n    </tr>\n    <tr>\n      <th>1</th>\n      <td></td>\n      <td></td>\n      <td></td>\n      <td></td>\n      <td></td>\n      <td></td>\n      <td></td>\n      <td></td>\n      <td></td>\n      <td></td>\n      <td>...</td>\n      <td></td>\n      <td></td>\n      <td></td>\n      <td></td>\n      <td></td>\n      <td></td>\n      <td></td>\n      <td></td>\n      <td>\"origin\" (for props).</td>\n      <td></td>\n    </tr>\n    <tr>\n      <th>2</th>\n      <td></td>\n      <td></td>\n      <td></td>\n      <td></td>\n      <td></td>\n      <td></td>\n      <td></td>\n      <td></td>\n      <td></td>\n      <td></td>\n      <td>...</td>\n      <td></td>\n      <td></td>\n      <td></td>\n      <td></td>\n      <td></td>\n      <td>note</td>\n      <td>note</td>\n      <td></td>\n      <td>Prop type (for props) or further detail (for i...</td>\n      <td></td>\n    </tr>\n    <tr>\n      <th>3</th>\n      <td>inside</td>\n      <td>inside</td>\n      <td>inside</td>\n      <td>inside</td>\n      <td>inside</td>\n      <td>inside?</td>\n      <td>inside?</td>\n      <td>discard</td>\n      <td>discard</td>\n      <td>discard</td>\n      <td>...</td>\n      <td>discard</td>\n      <td>discard</td>\n      <td>discard</td>\n      <td>discard</td>\n      <td>discard</td>\n      <td>inside</td>\n      <td>inside</td>\n      <td>discard</td>\n      <td>discard</td>\n      <td>inside</td>\n    </tr>\n  </tbody>\n</table>\n<p>4 rows × 61 columns</p>\n</div>"
     },
     "execution_count": 386,
     "metadata": {},
     "output_type": "execute_result"
    }
   ],
   "source": [
    "header_infos['concepts']"
   ],
   "metadata": {
    "collapsed": false,
    "pycharm": {
     "name": "#%%\n"
    }
   }
  },
  {
   "cell_type": "markdown",
   "source": [
    "# Declaration of controlling classes"
   ],
   "metadata": {
    "collapsed": false,
    "pycharm": {
     "name": "#%% md\n"
    }
   }
  },
  {
   "cell_type": "code",
   "execution_count": 400,
   "outputs": [],
   "source": [
    "additional_entities = []\n",
    "\n",
    "# for controlling entity and mapping of its fields\n",
    "class EntityMapper:\n",
    "\n",
    "    # simple inside values mapping from input_values in gsheets to inkVisitor enums\n",
    "    # field: { FROM  : TO }\n",
    "    enum_mapper = {'language': {\"English\":\"eng\",\"Latin\":\"lat\",\"Occitan\":\"oci\",\"Middle English\":\"enm\"},\"status\":{\"approved\":\"1\",\"pending\":\"0\",\"discouraged\":\"2\",\"warning\":\"3\"}}\n",
    "    # status  Pending = \"0\",   Approved = \"1\",  Discouraged = \"2\",  Warning = \"3\",\n",
    "\n",
    "\n",
    "    IOF = InkVisitorJSONObjectFactory()\n",
    "\n",
    "    def __init__(self, entity_type, logger = d.logger):\n",
    "        self.entity =  type(self).IOF.make(entity_type)\n",
    "        self.logger = logger\n",
    "\n",
    "\n",
    "    def get_entity_id(self,entity_string, origin = \"\"):\n",
    "        id = \"\"\n",
    "        # logger.info(f\"Getting entity string {entity_string} in {origin}\")\n",
    "        try:\n",
    "            if \"C\" in entity_string:\n",
    "                id = tables['concepts'].loc[tables['concepts']['legacyId'] == entity_string,'id'].values[0]\n",
    "            elif \"V\" in entity_string:\n",
    "                ventity = self.make_ventity(entity_string, origin=origin)\n",
    "                id = ventity['id']\n",
    "            elif \"M\" in entity_string:\n",
    "                id = tables['manuscripts'].loc[tables['manuscripts']['legacyId'] == entity_string,'id'].values[0]\n",
    "            elif \"A\" in entity_string:\n",
    "                id = tables['actions'].loc[tables['actions']['legacyId'] == entity_string,'id'].values[0]\n",
    "            elif \"R\" in entity_string:\n",
    "                id = tables['resources'].loc[tables['resources']['legacyId'] == entity_string,'id'].values[0]\n",
    "            elif is_valid_uuid(entity_string):\n",
    "                id = entity_string\n",
    "\n",
    "        except IndexError as E:\n",
    "            logger.info(f\"Cannot get entity id from entity string {entity_string} in {origin}. {E}\")\n",
    "\n",
    "        if id != \"\" and isinstance(id, str):\n",
    "            # logger.info(f\"Got entity id {id} from entity string {entity_string} in {origin}\")\n",
    "            return id\n",
    "        else:\n",
    "            logger.error(f\"Cannot get entity id from {entity_string}.\")\n",
    "            raise Exception(f\"Cannot get entity id from {entity_string}.\")\n",
    "\n",
    "\n",
    "    def make_ventity(self, value_string, origin=\"\"):\n",
    "        # logger.info(f\"Generating ventity from {value_string}.\")\n",
    "        # generate value entity object...\n",
    "        ventity = IOF.make('IValue')\n",
    "        ventity['id'] = get_uuid_id()\n",
    "        ventity['label'] = value_string.replace(\"~V~\",\"\")\n",
    "\n",
    "        # register ventity\n",
    "        tables['values'] = tables['values'].append({'id':ventity['id'] ,'value':ventity['label'],\"origin\":\"\"},ignore_index=True )\n",
    "        additional_entities.append(ventity)\n",
    "\n",
    "        # logger.info(f\"Ventity id={ventity['id']} generated.\")\n",
    "\n",
    "        return ventity\n",
    "\n",
    "    def make_rentity(self, label, url = \"\", origin=\"\"):\n",
    "        # logger.info(f\"Generating rentity from {value_string}.\")\n",
    "        # generate resource entity object...\n",
    "        rentity = IOF.make('IResource')\n",
    "        rentity['id'] = get_uuid_id()\n",
    "        rentity['label'] = label\n",
    "        rentity['data']['link'] = url\n",
    "\n",
    "        # register ventity\n",
    "        tables['resources'] = tables['resources'].append({'id':rentity['id'] ,'value':rentity['label'],\"origin\":origin},ignore_index=True )\n",
    "        additional_entities.append(rentity)\n",
    "\n",
    "        # logger.info(f\"Rentity id={rentity['id']} generated.\")\n",
    "        return rentity\n",
    "\n",
    "    # interprets prop_type (should be always concept (?)) and input_value (should be concept or value string)\n",
    "    # get ids of the prop_type and prop_value (possibly creates and register values object)\n",
    "    # make iProp object\n",
    "    # puts iProp object into the entity props property\n",
    "    def hook_prop_object(self, prop_type, input_value, prop_source=\"\",  origin=\"\"):\n",
    "        # allowed entities in type\n",
    "        assert \"C\" in prop_type, f\"Prop type unknown, C string entity expected? {prop_type}, {origin}\"\n",
    "\n",
    "        # allowed entities in input\n",
    "        allowed_entities_classes = ['C','M','V']\n",
    "        #hack for making ~V~string from input_values, which are not explicit\n",
    "        if not any(c in input_value for c in allowed_entities_classes):\n",
    "            input_value = \"~V~\"+input_value\n",
    "        assert any(c in input_value for c in allowed_entities_classes), f\"Prop value unknown, C string or V string entity expected? {input_value}, {origin}\"\n",
    "\n",
    "        prop_type_id = self.get_entity_id(prop_type, origin=origin)\n",
    "        prop_value_id = self.get_entity_id(input_value, origin=origin)\n",
    "        # logger.info(f\"{prop_type_id}, {prop_value_id}\")\n",
    "\n",
    "        # make IProp object\n",
    "        prop_object = IOF.make('IProp')\n",
    "        prop_object['id'] = get_uuid_id()\n",
    "        prop_object['type']['id'] = prop_type_id\n",
    "        prop_object['value']['id'] = prop_value_id\n",
    "\n",
    "\n",
    "        if prop_source !=\"\": # means propvalue_2nd\n",
    "            self.hook_2ndprop_into_props(prop_object,prop_source)\n",
    "            pass\n",
    "        else:\n",
    "            # hook directly into the entity object\n",
    "            self.hook_prop_into_props(prop_object)\n",
    "\n",
    "\n",
    "    def hook_prop_into_props(self,prop_object):\n",
    "        self.entity['props'].append(prop_object)\n",
    "\n",
    "    def hook_2ndprop_into_props(self,prop_object,fst_prop_identification):  # identification by concept id\n",
    "        key = 0\n",
    "        keyId = self.get_entity_id(fst_prop_identification)\n",
    "        assert len(keyId)>0, f\"Cannot recognize entity id from {fst_prop_identification}\"\n",
    "\n",
    "        # count, value in enumerate(values)\n",
    "        for count, po in enumerate(self.entity['props']):\n",
    "            if po['type']['id'] == keyId and len(po['children']) == 0:  # I am counting on the fact, that if there relations from multiples, they are processed in the specific right order\n",
    "               po['children'].append(prop_object)\n",
    "\n",
    "    # method invoker for the INSIDE operation with concrete fields\n",
    "    def update_inside_field(self, field_name, input_value, origin= \"\"):\n",
    "        if input_value != '':\n",
    "\n",
    "            if \"#\" in input_value or \"~\" in input_value:\n",
    "                self.logger.info(f\"ALERT # or ~ in the input value {input_value}\")\n",
    "\n",
    "            update_operation = \"update_\" + field_name\n",
    "            update_func = getattr(self, update_operation, self.update_generic)\n",
    "            update_func(field_name, input_value, origin)\n",
    "        else:\n",
    "            raise Exception(f\"Trying to update {field_name} with empty input value.\")\n",
    "\n",
    "    #########################################################################################################\n",
    "    # the naming of procedures corresponds to the name of the input_table fields,  used for inside operations\n",
    "\n",
    "    def update_label_language(self, field_name, input_value, origin = \"\"):\n",
    "        if input_value in type(self).enum_mapper['language']:\n",
    "            self.entity['language'] = type(self).enum_mapper['language'][input_value]\n",
    "        else:\n",
    "            self.entity['language'] = input_value # will raise error\n",
    "\n",
    "    def update_status(self, field_name, input_value, origin = \"\"):\n",
    "        if input_value in type(self).enum_mapper['status']:\n",
    "            self.entity['status'] = type(self).enum_mapper['status'][input_value]\n",
    "        else:\n",
    "            self.entity['status'] = input_value # will raise error\n",
    "\n",
    "    def update_note(self, field_name, input_value, origin = \"\"):\n",
    "        #self.logger.info(f\"Updating note with {input_value}.\")\n",
    "        self.entity['notes'].append(input_value)\n",
    "\n",
    "    def update_id(self, field_name, input_value, origin = \"\"):\n",
    "        # self.entity['id'] = input_value\n",
    "        self.entity['id'] = input_value\n",
    "\n",
    "    def update_legacyId(self, field_name, input_value, origin = \"\"):\n",
    "        # logger.info(f\"Trying to set legacyId {type(input_value)}:'{input_value}' {origin}.\")\n",
    "        self.entity['legacyId'] = input_value\n",
    "\n",
    "    def update_label(self, field_name, input_value, origin = \"\"):\n",
    "        self.entity['label'] = \"_I_\"+input_value\n",
    "\n",
    "    def update_generic(self, field_name, input_value, origin = \"\"):\n",
    "        self.entity[field_name] = input_value\n",
    "\n",
    "\n",
    "\n",
    "class TerritoryEntityMapper(EntityMapper):\n",
    "    def __init__(self,entity_type, logger = d.logger):\n",
    "        EntityMapper.__init__(self,entity_type, logger)\n",
    "\n",
    "class ConceptEntityMapper(EntityMapper):\n",
    "    def __init__(self,entity_type, logger = d.logger):\n",
    "        EntityMapper.__init__(self,entity_type, logger)\n",
    "\n",
    "class ActionEntityMapper(EntityMapper):\n",
    "    def __init__(self,entity_type, logger = d.logger):\n",
    "        EntityMapper.__init__(self,entity_type, logger)\n",
    "\n",
    "class ResourceEntityMapper(EntityMapper):\n",
    "    def __init__(self,entity_type, logger = d.logger):\n",
    "        EntityMapper.__init__(self,entity_type, logger)\n",
    "\n",
    "class ObjectEntityMapper(EntityMapper):\n",
    "    def __init__(self,entity_type, logger = d.logger):\n",
    "        EntityMapper.__init__(self,entity_type, logger)\n",
    "\n",
    "\n",
    "\n",
    "class EntityMapperFactory:\n",
    "    def __init__(self):\n",
    "        pass\n",
    "\n",
    "    def make(self,entity_name):\n",
    "        if 'ITerritory' == entity_name:\n",
    "            return TerritoryEntityMapper(entity_name)\n",
    "        elif 'IAction' == entity_name:\n",
    "            return ActionEntityMapper(entity_name)\n",
    "        elif 'IConcept' == entity_name:\n",
    "            return ConceptEntityMapper(entity_name)\n",
    "        elif 'IResource' == entity_name:\n",
    "            return ResourceEntityMapper(entity_name)\n",
    "        elif 'IObject' == entity_name:\n",
    "            return ObjectEntityMapper(entity_name)\n",
    "\n",
    "        else:\n",
    "            logger.warning(f\"Unrecognized entity class in entity mapper. Is this right?\")\n",
    "            return EntityMapper(entity_name)\n",
    "\n",
    "\n",
    "\n",
    "\n",
    "# CONTROL CLASS\n",
    "class ParseController():\n",
    "    def __init__(self, entity_list: [], keyword_row_id = 3,  logger = d.logger):\n",
    "        self.entity_list = entity_list\n",
    "        self.logger = logger\n",
    "        self.parsers = {}\n",
    "        self.js_objects = []\n",
    "\n",
    "        for e in self.entity_list:\n",
    "            if 'texts' in e:\n",
    "                self.parsers[e] = TextParser(e, header_df = header_infos[e], table_df = tables[e], keyword_row_id = keyword_row_id, logger = logger)\n",
    "            else:\n",
    "                self.parsers[e] = Parser(e, header_df = header_infos[e], table_df = tables[e], keyword_row_id = keyword_row_id, logger = logger)\n",
    "\n",
    "    def load_json_objects(self):\n",
    "        for name, p in self.parsers.items():\n",
    "            self.js_objects = self.js_objects + p.js_objects\n",
    "\n",
    "\n",
    "# WORKER CLASS\n",
    "class Parser():\n",
    "    EMP = EntityMapperFactory()\n",
    "\n",
    "    def __init__(self, name, header_df: pd.DataFrame, table_df: pd.DataFrame, keyword_row_id: int, logger: logger):\n",
    "        self.name = name\n",
    "        self.logname = name.upper()\n",
    "        self.input_header_df = header_df\n",
    "        self.input_table_df = table_df\n",
    "        self.prepared_table = pd.DataFrame()\n",
    "        self.keyword_row_id =  keyword_row_id\n",
    "        self.columns = self.input_header_df.columns.tolist()\n",
    "\n",
    "        self.parsing_instruction = {}\n",
    "        self.oper_columns = {'discard':[],'inside':[],'special':[],'unknown':[],'propvalue':[],'propvalue_2nd':[]}\n",
    "        self.logger = logger\n",
    "\n",
    "        # parsed json data holder\n",
    "        self.js_objects = []\n",
    "\n",
    "        # RUN\n",
    "        self.process_header_instructions()\n",
    "        self.prepare_input_table()\n",
    "\n",
    "    # \"parsing\" instructions\n",
    "    def process_header_instructions(self) -> (pd.DataFrame, pd.DataFrame):\n",
    "        keyword_row = self.input_header_df.iloc[self.keyword_row_id]\n",
    "        prop_type_row = self.input_header_df.iloc[self.keyword_row_id - 1]\n",
    "        source_node_row = self.input_header_df.iloc[self.keyword_row_id - 2]\n",
    "\n",
    "        log_uncertain_instructions = []\n",
    "\n",
    "        for c in self.columns:\n",
    "            instruction_candidate = str(keyword_row.at[c]).strip()\n",
    "            prop_type_candidate = str(prop_type_row.at[c]).strip()\n",
    "            source_node_candidate = str(source_node_row.at[c]).strip()\n",
    "\n",
    "            if c == '':\n",
    "                self.logger.error(f\"{self.logname} There is empty column in the dataset.\")\n",
    "                raise Exception(f\"{self.logname} There is empty column in the dataset.\")\n",
    "\n",
    "            if \"?\" in instruction_candidate or \"?\" in prop_type_candidate or \"?\" in source_node_candidate:\n",
    "                log_uncertain_instructions.append(f\"{c.upper()}:{instruction_candidate},{prop_type_candidate},{source_node_candidate}\")\n",
    "                instruction  = {'operation':'discard', 'target': None}\n",
    "                self.oper_columns['discard'].append(c)\n",
    "\n",
    "            if 'discard' in instruction_candidate:\n",
    "                instruction  = {'operation':'discard', 'target': None}\n",
    "                self.oper_columns['discard'].append(c)\n",
    "\n",
    "            elif 'propvalue' ==  instruction_candidate:\n",
    "                prop_type = prop_type_candidate\n",
    "                source_node = source_node_candidate\n",
    "                if \"?\" in prop_type or \"?\"  in source_node:\n",
    "                    instruction = {'operation':'unknown', 'target': None}\n",
    "                    self.oper_columns['unknown'].append(c)\n",
    "                else:\n",
    "                    instruction  = {'operation':'propvalue', 'type': prop_type, 'source':source_node} # source can be ignored, because the iProp object is sitting inside of it\n",
    "                    self.oper_columns['propvalue'].append(c)\n",
    "\n",
    "            elif 'propvalue_2nd' in instruction_candidate:\n",
    "                prop_type = prop_type_candidate\n",
    "                source_node = source_node_candidate\n",
    "                if \"?\" in prop_type or \"?\"  in source_node:\n",
    "                    instruction = {'operation':'unknown', 'target': None}\n",
    "                    self.oper_columns['unknown'].append(c)\n",
    "                else:\n",
    "                    instruction  = {'operation':'propvalue_2nd', 'type': prop_type, 'source':source_node} # source can NOT be ignored, it signals which existing iProp object will hold this iProp object\n",
    "                    self.oper_columns['propvalue_2nd'].append(c)\n",
    "\n",
    "            elif 'special' in instruction_candidate:\n",
    "                # looks for custom functions registered by column name\n",
    "                prop_type = prop_type_candidate\n",
    "                source_node = source_node_candidate\n",
    "                instruction  = {'operation':'special', 'type': prop_type, 'source':source_node}\n",
    "                self.oper_columns['special'].append(c)\n",
    "\n",
    "            elif 'inside' in instruction_candidate:\n",
    "                if \"?\" in c:\n",
    "                    instruction = {'operation':'unknown', 'target': None}\n",
    "                    self.oper_columns['unknown'].append(c)\n",
    "                else:\n",
    "                    instruction  = {'operation':'inside', 'target': None}\n",
    "                    if len(prop_type_candidate) > 0:\n",
    "                        instruction  = {'operation':'inside', 'target': prop_type_candidate}\n",
    "\n",
    "                    self.oper_columns['inside'].append(c)\n",
    "\n",
    "            else:\n",
    "                instruction = {'operation':'unknown', 'target': None}\n",
    "                self.oper_columns['unknown'].append(c)\n",
    "            self.parsing_instruction[c] = instruction\n",
    "\n",
    "        self.logger.info(f\"{self.logname} Uncertain parsing instructions in {len(log_uncertain_instructions)} columns: \" + \" \".join(log_uncertain_instructions) + \".\")\n",
    "        return self.parsing_instruction\n",
    "\n",
    "    def prepare_input_table(self):\n",
    "        ip = self.input_table_df.copy()\n",
    "\n",
    "        # discard  columns with discard and unknown operations\n",
    "        ip.drop(columns=self.oper_columns['discard']+self.oper_columns['unknown'], inplace=True)\n",
    "\n",
    "        self.logger.info(f\"{self.logname} {len(self.oper_columns['discard']+self.oper_columns['unknown'])} columns have been dropped (discard:{len(self.oper_columns['discard'])}, unknown:{len(self.oper_columns['unknown'])}). Table now has {len(ip.columns)} columns, inside:{len(self.oper_columns['inside'])},propvalue:{len(self.oper_columns['propvalue'])}, special:{len(self.oper_columns['special'])}. Originally {self.input_table_df.shape[1]} columns.\")\n",
    "\n",
    "        self.prepared_table = ip\n",
    "\n",
    "\n",
    "    def prepare_property(self):\n",
    "        pass\n",
    "\n",
    "\n",
    "    def make_row_object(self):\n",
    "        class_name = table_to_entity[self.name]\n",
    "        return type(self).EMP.make(class_name)\n",
    "\n",
    "    def itemize_valuestring_for_multiples(self, value_with_multiples, origin=\"\") -> []:\n",
    "        values = []\n",
    "        if isinstance(value_with_multiples,str):\n",
    "            parsed_value = value_with_multiples.split('#')\n",
    "            values =  [item.strip() for item in parsed_value]\n",
    "        else:\n",
    "            raise Exception(f\"Expected value to be string. Got {type(value_with_multiples)}. {origin}\")\n",
    "        return values\n",
    "\n",
    "    def parse_rows(self):\n",
    "        for key, row in self.prepared_table.iterrows():\n",
    "            # logger.info(f\"{self.name} Processing row {key}\")\n",
    "            entity_mapper = self.make_row_object()\n",
    "            for name, value in row.items():\n",
    "                if name in self.parsing_instruction:\n",
    "                    operation = self.parsing_instruction[name]\n",
    "                else:\n",
    "                    continue # silently ignore unknown columns\n",
    "                #logger.info(f\"{self.name} Processing columns {name}, with value {value}. Op:{operation}\")\n",
    "\n",
    "                # force string\n",
    "                value = str(value)\n",
    "\n",
    "                if operation['operation'] == 'inside' and value != '' and '?' not in name:\n",
    "                    #logger.info(f\"{self.name} Processing columns {name}, with value {value}. Op:{operation}\")\n",
    "                    if operation['target']:\n",
    "                        name = operation['target']\n",
    "                    entity_mapper.update_inside_field(name,value,operation['operation'] +\">\"+ str(key)+\":\"+str(name)+\":\"+str(value))\n",
    "\n",
    "                if operation['operation'] == 'propvalue' and value != '':\n",
    "                    #logger.info(f\"{self.name} Processing columns {name}, with value {value}. Op:{operation}\")\n",
    "                    prop_type = operation['type']\n",
    "                    if prop_type == '' or 'C' not in prop_type:\n",
    "                        raise Exception(f\"Propvalue does not have prop type defined. C entity-string expected, got {key}, {name}, {value}\")\n",
    "                    for item in self.itemize_valuestring_for_multiples(value):\n",
    "                        entity_mapper.hook_prop_object(prop_type = prop_type, input_value = item, origin = operation['operation'] +\">\"+ str(key)+\":\"+str(name)+\":\"+str(value))\n",
    "\n",
    "                if operation['operation'] == 'propvalue_2nd' and value != '':\n",
    "                    # logger.info(f\"{self.name} Processing columns {name}, with value {value}. Op:{operation}\")\n",
    "                    prop_type = operation['type']\n",
    "                    prop_source_name = operation['source']  # header_name,  we need concept_id\n",
    "\n",
    "                    prop_source_id = self.parsing_instruction[prop_source_name]['type']\n",
    "                    assert 'C' in prop_source_id, f\"Trying to get to the concept of 1st level property to adress 2nd level property.\"\n",
    "\n",
    "                    if prop_type == '' or 'C' not in prop_type:\n",
    "                        raise Exception(f\"Propvalue does not have prop type defined. C entity-string expected, got {key}, {name}, {value}\")\n",
    "\n",
    "                    origin = operation['operation'] +\">\"+ str(key)+\":\"+str(name)+\":\"+str(value)\n",
    "\n",
    "                    for item in self.itemize_valuestring_for_multiples(value, origin=origin):\n",
    "                        entity_mapper.hook_prop_object(prop_type = prop_type, input_value = item, prop_source = prop_source_id, origin = origin)\n",
    "                    pass\n",
    "\n",
    "                if operation['operation'] == 'special' and value != \"\":\n",
    "                    # logger.info(f\"SPECIAL {operation} {value}\")\n",
    "                    func = getattr(self, 'special_'+name)\n",
    "                    func(operation, value, entity_mapper)\n",
    "\n",
    "            self.js_objects.append(entity_mapper.entity)\n",
    "            # break\n",
    "\n",
    "\n",
    "class TextParser(Parser):\n",
    "\n",
    "    def __init__(self, name, header_df: pd.DataFrame, table_df: pd.DataFrame, keyword_row_id: int, logger: logger):\n",
    "        Parser.__init__(self, name, header_df, table_df, keyword_row_id, logger)\n",
    "\n",
    "    # special methods for fields, which needs fully individual processing\n",
    "    def special_edition_1(self, operation, value, entity_mapper, field_name=\"special_edition1\", ):\n",
    "        # Parse this col. as \"propvalue\" - but you need to generate the target entities since they do not exist. How to do it: for any value, create an R entity with \"label\" = textual value in this col., \"label language\" = English, \"status\" = \"approved\", and \"URL\" = the hyperlink in the formula sitting on the textual value in this col. As usual, ignore NS and NA values (exact match) - do not import anything if the value is NA.\n",
    "        # logger.info(f\"Special edition1 running ...{operation} {value}\")\n",
    "        prop_type = operation['type']\n",
    "\n",
    "\n",
    "        # make rentity\n",
    "        # logger.info(f\"Rentity making {value}\")\n",
    "        if \"|\" in value:\n",
    "            data = value.split(\"|\")\n",
    "            label = data[0]\n",
    "            url = data[1]\n",
    "        else:\n",
    "            url = \"\"\n",
    "            label = value\n",
    "            # logger.warning(f\"Expected char | signaling url after label. Got just {value}\")\n",
    "\n",
    "        rentity = entity_mapper.make_rentity(label, url, origin=field_name)\n",
    "\n",
    "        entity_mapper.hook_prop_object(prop_type = prop_type, input_value = rentity['id'], origin = operation['operation'] +\">\"+ \":\"+field_name + str(value))\n",
    "\n",
    "    def special_edition_2(self, operation, value, entity_mapper):\n",
    "        self.special_edition_1( operation, value, entity_mapper, field_name=\"edition_2\")\n",
    "\n",
    "    def special_edition_3(self, operation, value, entity_mapper):\n",
    "        self.special_edition_1( operation, value, entity_mapper, field_name=\"edition_3\")\n",
    "\n"
   ],
   "metadata": {
    "collapsed": false,
    "pycharm": {
     "name": "#%%\n"
    }
   }
  },
  {
   "cell_type": "code",
   "execution_count": 348,
   "outputs": [],
   "source": [
    "# step 1: implement import of properties\n",
    "# ... id  : with this David signal, that the value of the type in props object is  the highest entity itslef (e.g. text)\n",
    "#     or other header_name for propvalue_2nd\n",
    "# property type: C0732\n",
    "# instruction propvalue\n",
    "# inout table field: language_id\n",
    "# value example : C0938\n",
    "\n",
    "\n",
    "#intracacies,  multiples and value objects\n",
    "#  BIG CONSEQUENCES : I need to create and fill the virtual dataset of value objects, which  will be appended to the entities.json\n",
    "\n"
   ],
   "metadata": {
    "collapsed": false,
    "pycharm": {
     "name": "#%%\n"
    }
   }
  },
  {
   "cell_type": "markdown",
   "source": [
    "# Run"
   ],
   "metadata": {
    "collapsed": false,
    "pycharm": {
     "name": "#%% md\n"
    }
   }
  },
  {
   "cell_type": "code",
   "execution_count": 401,
   "outputs": [
    {
     "name": "stderr",
     "output_type": "stream",
     "text": [
      "2022-03-09 08:00:42,204 INFO Start\n",
      "2022-03-09 08:00:42,211 INFO TEXTS Uncertain parsing instructions in 6 columns: TIMERELATION1_TARGET_ID:propvalue?,, TIMERELATION2_TYPE_CONCEPTIFIED_ID:proptype?,, TIMERELATION2_TARGET_ID:propvalue?,, TIMERELATION3_TYPE_CONCEPTIFIED_ID:proptype?,, TIMERELATION3_TARGET_ID:propvalue?,, TIMERELATION4_TARGET_ID:propvalue?,,.\n",
      "2022-03-09 08:00:42,213 INFO TEXTS 80 columns have been dropped (discard:72, unknown:8). Table now has 40 columns, inside:9,propvalue:14, special:3. Originally 114 columns.\n",
      "2022-03-09 08:00:42,218 INFO CONCEPTS Uncertain parsing instructions in 2 columns: WORDNET_LEMMA_ID:inside?,, WORDNET_SYNSET_ID:inside?,,.\n",
      "2022-03-09 08:00:42,223 INFO CONCEPTS 45 columns have been dropped (discard:44, unknown:1). Table now has 16 columns, inside:10,propvalue:8, special:0. Originally 61 columns.\n",
      "2022-03-09 08:02:02,715 INFO End\n"
     ]
    }
   ],
   "source": [
    "logger.info(f\"Start\")\n",
    "#cp = ParseController(entity_list=['texts','manuscripts','resources','concepts','actions'])\n",
    "\n",
    "cp = ParseController(entity_list=['texts','concepts'])\n",
    "cp.parsers['texts'].parse_rows()\n",
    "cp.parsers['concepts'].parse_rows()\n",
    "logger.info(f\"End\")"
   ],
   "metadata": {
    "collapsed": false,
    "pycharm": {
     "name": "#%%\n"
    }
   }
  },
  {
   "cell_type": "code",
   "execution_count": 421,
   "outputs": [],
   "source": [
    "%reload_ext line_profiler\n",
    "\n",
    "def profile():\n",
    "    cp.parsers['concepts'].parse_rows()\n",
    "\n",
    "%lprun -f EntityMapper.update_inside_field profile()"
   ],
   "metadata": {
    "collapsed": false,
    "pycharm": {
     "name": "#%%\n"
    }
   }
  },
  {
   "cell_type": "code",
   "execution_count": 413,
   "outputs": [],
   "source": [
    "%lprun?"
   ],
   "metadata": {
    "collapsed": false,
    "pycharm": {
     "name": "#%%\n"
    }
   }
  },
  {
   "cell_type": "markdown",
   "source": [
    "\n"
   ],
   "metadata": {
    "collapsed": false,
    "pycharm": {
     "name": "#%% md\n"
    }
   }
  },
  {
   "cell_type": "code",
   "execution_count": 402,
   "outputs": [
    {
     "name": "stdout",
     "output_type": "stream",
     "text": [
      "{\"class\": \"T\", \"id\": \"0f243e16-6f2e-4441-8612-c5795cbf100d\", \"legacyId\": \"T1\", \"label\": \"_I_Process against Bernard Niort and his family\", \"language\": \"eng\", \"detail\": \"Early 1234.\", \"data\": {\"parent\": {\"id\": \"T0\", \"order\": 0}}, \"props\": [{\"bundleEnd\": false, \"bundleStart\": false, \"certainty\": \"1\", \"children\": [], \"elvl\": \"1\", \"id\": \"220fb083-0662-4da0-b20e-129af2255908\", \"logic\": \"1\", \"mood\": [], \"moodvariant\": \"1\", \"bundleOperator\": \"=\", \"type\": {\"id\": \"95e5725c-f5d9-4d92-96af-cdf88499e921\", \"elvl\": \"1\", \"logic\": \"1\", \"partitivity\": \"1\", \"virtuality\": \"1\"}, \"value\": {\"id\": \"ac814816-705e-41ae-b6b1-5e0e77f79eaf\", \"elvl\": \"1\", \"logic\": \"1\", \"partitivity\": \"1\", \"virtuality\": \"1\"}}, {\"bundleEnd\": false, \"bundleStart\": false, \"certainty\": \"1\", \"children\": [], \"elvl\": \"1\", \"id\": \"6709d257-4857-4247-b3eb-4366b8e2814e\", \"logic\": \"1\", \"mood\": [], \"moodvariant\": \"1\", \"bundleOperator\": \"=\", \"type\": {\"id\": \"8726db8b-9834-4300-a134-1c4bf309c816\", \"elvl\": \"1\", \"logic\": \"1\", \"partitivity\": \"1\", \"virtuality\": \"1\"}, \"value\": {\"id\": \"3b4ffb1a-7a17-4515-948e-a12ddd035220\", \"elvl\": \"1\", \"logic\": \"1\", \"partitivity\": \"1\", \"virtuality\": \"1\"}}, {\"bundleEnd\": false, \"bundleStart\": false, \"certainty\": \"1\", \"children\": [], \"elvl\": \"1\", \"id\": \"dab12486-8b9f-46ea-8def-6bf0e4ef3840\", \"logic\": \"1\", \"mood\": [], \"moodvariant\": \"1\", \"bundleOperator\": \"=\", \"type\": {\"id\": \"84c7701f-7ad1-4879-b9df-33af36790f0e\", \"elvl\": \"1\", \"logic\": \"1\", \"partitivity\": \"1\", \"virtuality\": \"1\"}, \"value\": {\"id\": \"88a7cf75-047f-4b53-aed3-c79f092135ed\", \"elvl\": \"1\", \"logic\": \"1\", \"partitivity\": \"1\", \"virtuality\": \"1\"}}, {\"bundleEnd\": false, \"bundleStart\": false, \"certainty\": \"1\", \"children\": [{\"bundleEnd\": false, \"bundleStart\": false, \"certainty\": \"1\", \"children\": [], \"elvl\": \"1\", \"id\": \"8e9c3a44-0d76-4ed7-960d-7bd9c91eba58\", \"logic\": \"1\", \"mood\": [], \"moodvariant\": \"1\", \"bundleOperator\": \"=\", \"type\": {\"id\": \"6f18b473-7551-48de-8a4c-3e15a2eea51b\", \"elvl\": \"1\", \"logic\": \"1\", \"partitivity\": \"1\", \"virtuality\": \"1\"}, \"value\": {\"id\": \"0d882b8a-a017-4e02-aa90-a0e30d06963c\", \"elvl\": \"1\", \"logic\": \"1\", \"partitivity\": \"1\", \"virtuality\": \"1\"}}], \"elvl\": \"1\", \"id\": \"efdd72a7-269f-4b9e-ba90-bd56411f35ae\", \"logic\": \"1\", \"mood\": [], \"moodvariant\": \"1\", \"bundleOperator\": \"=\", \"type\": {\"id\": \"021b0965-7364-4bed-b482-a5f79749849b\", \"elvl\": \"1\", \"logic\": \"1\", \"partitivity\": \"1\", \"virtuality\": \"1\"}, \"value\": {\"id\": \"570a4d49-d33a-4d3a-9ebc-6bfa4c66ae26\", \"elvl\": \"1\", \"logic\": \"1\", \"partitivity\": \"1\", \"virtuality\": \"1\"}}, {\"bundleEnd\": false, \"bundleStart\": false, \"certainty\": \"1\", \"children\": [{\"bundleEnd\": false, \"bundleStart\": false, \"certainty\": \"1\", \"children\": [], \"elvl\": \"1\", \"id\": \"8731441b-8b55-42b9-a638-b31a9fe2a579\", \"logic\": \"1\", \"mood\": [], \"moodvariant\": \"1\", \"bundleOperator\": \"=\", \"type\": {\"id\": \"dc07925a-0bad-4f37-ae85-d041c01ec8b9\", \"elvl\": \"1\", \"logic\": \"1\", \"partitivity\": \"1\", \"virtuality\": \"1\"}, \"value\": {\"id\": \"5aa9e1ac-4284-4a57-9acc-82166b9f4951\", \"elvl\": \"1\", \"logic\": \"1\", \"partitivity\": \"1\", \"virtuality\": \"1\"}}], \"elvl\": \"1\", \"id\": \"2d76bfa4-5fd0-48c2-ba5b-613136c0ee60\", \"logic\": \"1\", \"mood\": [], \"moodvariant\": \"1\", \"bundleOperator\": \"=\", \"type\": {\"id\": \"a929985d-9a4e-4bed-a604-111bd0de70d1\", \"elvl\": \"1\", \"logic\": \"1\", \"partitivity\": \"1\", \"virtuality\": \"1\"}, \"value\": {\"id\": \"ec94d7a3-efb8-4df1-87a6-db6dc6cb581b\", \"elvl\": \"1\", \"logic\": \"1\", \"partitivity\": \"1\", \"virtuality\": \"1\"}}], \"notes\": [\"Douais has a partial ed. Bruschi \\u2013 Biller (eds.), Texts and the Repression of Medieval Heresy\\u2026, 13, n. 28, and Bruschi, The Wandering Heretics\\u2026, 4, refer to the ed. of the whole vol. 21 in preparation by J\\u00f6rg Feuchter, but the project seems discontinued.\"], \"status\": \"1\", \"references\": []}\n"
     ]
    }
   ],
   "source": [
    "print(json.dumps(cp.parsers['texts'].js_objects[0]))"
   ],
   "metadata": {
    "collapsed": false,
    "pycharm": {
     "name": "#%%\n"
    }
   }
  },
  {
   "cell_type": "code",
   "execution_count": 403,
   "outputs": [
    {
     "name": "stderr",
     "output_type": "stream",
     "text": [
      "2022-03-09 08:07:31,069 INFO There is 219 additionally created entities (e.g. values, resources ...).\n"
     ]
    }
   ],
   "source": [
    "logger.info(f\"There is {len(additional_entities)} additionally created entities (e.g. values, resources ...).\")"
   ],
   "metadata": {
    "collapsed": false,
    "pycharm": {
     "name": "#%%\n"
    }
   }
  },
  {
   "cell_type": "code",
   "execution_count": 404,
   "outputs": [],
   "source": [
    "cp.load_json_objects()"
   ],
   "metadata": {
    "collapsed": false,
    "pycharm": {
     "name": "#%%\n"
    }
   }
  },
  {
   "cell_type": "markdown",
   "source": [
    "# Output the parsed data"
   ],
   "metadata": {
    "collapsed": false,
    "pycharm": {
     "name": "#%% md\n"
    }
   }
  },
  {
   "cell_type": "code",
   "execution_count": 397,
   "outputs": [],
   "source": [
    "# save json object list in the text file\n",
    "with open('../datasets/all-test/new_entities.json', 'w', encoding='utf-8') as f:\n",
    "    #f.write(str(cp.parsers['texts'].js_objects))\n",
    "    json.dump(cp.js_objects, f)\n",
    "\n",
    "# save json object list in the text file\n",
    "with open('../datasets/all-test/additional_entities.json', 'w', encoding='utf-8') as f:\n",
    "    #f.write(str(cp.parsers['texts'].js_objects))\n",
    "    json.dump(additional_entities, f)\n",
    "\n",
    "# read  entities.json\n",
    "with open('../datasets/all/entities.json','r') as f:\n",
    "    #entities_content = f.readlines()\n",
    "    entities_content = f.read().replace('\\n', '')\n",
    "\n",
    "# read  entities.json\n",
    "with open('../datasets/all-test/new_entities.json','r') as f:\n",
    "    #entities_content = f.readlines()\n",
    "    new_entities_content = f.read().replace('\\n', '')\n",
    "\n",
    "additional_entities_string = json.dumps(additional_entities)\n",
    "\n",
    "# write new\n",
    "with open('../datasets/all-test/entities.json','w', encoding='utf-8') as f:\n",
    "    #merge_content = entities_content[0:-1] +  str(cp.parsers['texts'].js_objects)[1:]\n",
    "    merge_content = entities_content[0:-1] +\", \" + additional_entities_string[1:-1]+ \", \" + new_entities_content[1:]\n",
    "    f.write(str(merge_content))"
   ],
   "metadata": {
    "collapsed": false,
    "pycharm": {
     "name": "#%%\n"
    }
   }
  },
  {
   "cell_type": "code",
   "execution_count": null,
   "outputs": [],
   "source": [],
   "metadata": {
    "collapsed": false,
    "pycharm": {
     "name": "#%%\n"
    }
   }
  }
 ],
 "metadata": {
  "kernelspec": {
   "display_name": "python38",
   "language": "python",
   "name": "python38"
  },
  "language_info": {
   "codemirror_mode": {
    "name": "ipython",
    "version": 3
   },
   "file_extension": ".py",
   "mimetype": "text/x-python",
   "name": "python",
   "nbconvert_exporter": "python",
   "pygments_lexer": "ipython3",
   "version": "3.8.12"
  }
 },
 "nbformat": 4,
 "nbformat_minor": 1
}