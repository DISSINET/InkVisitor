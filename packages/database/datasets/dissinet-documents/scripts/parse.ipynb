{
 "cells": [
  {
   "cell_type": "code",
   "execution_count": 16,
   "metadata": {},
   "outputs": [],
   "source": [
    "import os\n",
    "import json\n",
    "import re\n",
    "from rethinkdb import RethinkDB\n",
    "from dotenv import dotenv_values"
   ]
  },
  {
   "cell_type": "code",
   "execution_count": 17,
   "metadata": {},
   "outputs": [],
   "source": [
    "# PATHS\n",
    "PATH_DATA_IN = './data/documents/'\n",
    "PATH_DATA_OUT = './data/out/'\n",
    "PATH_ENTITIES = './../../all-parsed/entities.json'\n",
    "PATH_ENTITY_DATA = './data/entities/'\n",
    "PATH_OUT_FILE = './../documents.json'"
   ]
  },
  {
   "cell_type": "code",
   "execution_count": 18,
   "metadata": {},
   "outputs": [],
   "source": [
    "# create txt_files list of text files, got from PATH_DATA_IN in a format of dict list with keys 'name' and 'content'\n",
    "txt_files = []\n",
    "for file in os.listdir(PATH_DATA_IN):\n",
    "    if file.endswith('.txt'):\n",
    "        with open(PATH_DATA_IN + file, 'r') as f:\n",
    "            txt_files.append({\n",
    "                'name': file.split('.')[0],\n",
    "                'content': f.read()\n",
    "            })\n",
    "            "
   ]
  },
  {
   "cell_type": "code",
   "execution_count": 19,
   "metadata": {},
   "outputs": [],
   "source": [
    "# connect to rethinkdb database and download actual entities table\n",
    "# this needs a tunnel to be initialized `ssh -L 28016:10.16.30.211:28015 servgitci@10.16.30.211`\n",
    "r = RethinkDB()\n",
    "config = dotenv_values(\"./../../../env/.env.tunnel\")\n",
    "\n",
    "conn = r.connect(host=config[\"DB_HOST\"], port=config[\"DB_PORT\"], password=config[\"DB_AUTH\"], db=config[\"DB_NAME\"])\n",
    "\n",
    "# get all entities with legacyId\n",
    "entities_with_legacy_id = r.db('inkvisitor').table('entities').with_fields([\"id\", \"legacyId\"]).coerce_to('array').run(conn)\n",
    "\n",
    "# store entities with legacyId in a dictionary and save it to PATH_ENTITY_DATA + 'entities_with_legacy_id.json'\n",
    "entities_with_legacy_id_dict = {}\n",
    "for entity in entities_with_legacy_id:\n",
    "    entities_with_legacy_id_dict[entity['legacyId']] = entity['id']\n",
    "\n",
    "with open(PATH_ENTITY_DATA + 'entities_with_legacy_id.json', 'w') as f:\n",
    "    json.dump(entities_with_legacy_id_dict, f)\n",
    "\n",
    "\n",
    "# get all entity ids and store in in a dict to PATH_ENTITY_DATA + 'entities_all_ids.json' in a form of \"id\": True\n",
    "entities_all_ids = r.db('inkvisitor').table('entities').pluck('id').coerce_to('array').run(conn)\n",
    "entities_all_ids_dict = {}\n",
    "for entity in entities_all_ids:\n",
    "    entities_all_ids_dict[entity['id']] = True\n",
    "\n",
    "with open(PATH_ENTITY_DATA + 'entities_all_ids.json', 'w') as f:\n",
    "    json.dump(entities_all_ids_dict, f)\n"
   ]
  },
  {
   "cell_type": "code",
   "execution_count": 20,
   "metadata": {},
   "outputs": [
    {
     "ename": "NameError",
     "evalue": "name 'content' is not defined",
     "output_type": "error",
     "traceback": [
      "\u001b[0;31m---------------------------------------------------------------------------\u001b[0m",
      "\u001b[0;31mNameError\u001b[0m                                 Traceback (most recent call last)",
      "Cell \u001b[0;32mIn[20], line 51\u001b[0m\n\u001b[1;32m     46\u001b[0m \u001b[38;5;28;01mfor\u001b[39;00m file \u001b[38;5;129;01min\u001b[39;00m txt_files:\n\u001b[1;32m     47\u001b[0m     parsed_file \u001b[38;5;241m=\u001b[39m parse_file(file)\n\u001b[1;32m     49\u001b[0m     file_obj \u001b[38;5;241m=\u001b[39m {\n\u001b[1;32m     50\u001b[0m         \u001b[38;5;28mid\u001b[39m: parsed_file[\u001b[38;5;124m'\u001b[39m\u001b[38;5;124mname\u001b[39m\u001b[38;5;124m'\u001b[39m],\n\u001b[0;32m---> 51\u001b[0m         \u001b[43mcontent\u001b[49m: parsed_file[\u001b[38;5;124m'\u001b[39m\u001b[38;5;124mcontent\u001b[39m\u001b[38;5;124m'\u001b[39m],\n\u001b[1;32m     52\u001b[0m         title: parsed_file[\u001b[38;5;124m'\u001b[39m\u001b[38;5;124mname\u001b[39m\u001b[38;5;124m'\u001b[39m],\n\u001b[1;32m     53\u001b[0m         createdAt: \u001b[38;5;124m'\u001b[39m\u001b[38;5;124m2021-01-01T00:00:00.000Z\u001b[39m\u001b[38;5;124m'\u001b[39m, \n\u001b[1;32m     54\u001b[0m         updatedAt: \u001b[38;5;124m'\u001b[39m\u001b[38;5;124m2021-01-01T00:00:00.000Z\u001b[39m\u001b[38;5;124m'\u001b[39m\n\u001b[1;32m     55\u001b[0m     }\n\u001b[1;32m     57\u001b[0m     parsed_documents\u001b[38;5;241m.\u001b[39mappend(file_obj)\n\u001b[1;32m     59\u001b[0m \u001b[38;5;66;03m# write parsed_documents to PATH_OUT_FILE\u001b[39;00m\n",
      "\u001b[0;31mNameError\u001b[0m: name 'content' is not defined"
     ]
    }
   ],
   "source": [
    "# load entities_with_legacy_id and entities_all_ids from PATH_ENTITY_DATA\n",
    "with open(PATH_ENTITY_DATA + 'entities_with_legacy_id.json', 'r') as f:\n",
    "    lagacy_dict = json.load(f)\n",
    "\n",
    "with open(PATH_ENTITY_DATA + 'entities_all_ids.json', 'r') as f:\n",
    "    entities_dict = json.load(f)\n",
    "    \n",
    "\n",
    "def parse_file(file):\n",
    "    name = file['name']\n",
    "    content = file['content']\n",
    "\n",
    "    # get all references in the content marked by <id>text text </id> using refex '/<([\\w-]+)>/g'\n",
    "    regex = r'<([\\w-]+)>'\n",
    "\n",
    "    references = []\n",
    "    for match in re.finditer(regex, content):\n",
    "        references.append(match.group(1))\n",
    "\n",
    "    for ref in references:\n",
    "        if ref in lagacy_dict:\n",
    "            #print(f'replacing...{ref} with {lagacy_dict[ref]} in {name}')\n",
    "            content = content.replace(f'<{ref}>', f'<{lagacy_dict[ref]}>')\n",
    "            content = content.replace(f'</{ref}>', f'</{lagacy_dict[ref]}>')\n",
    "        elif ref in entities_dict:\n",
    "            pass\n",
    "        else:\n",
    "            print(f'entity not found: {ref} in {name}')\n",
    "\n",
    "    # make sure PATH_DATA_OUT exists\n",
    "    if not os.path.exists(PATH_DATA_OUT):\n",
    "        os.makedirs(PATH_DATA_OUT)\n",
    "        \n",
    "    # write the new content to PATH_DATA_OUT\n",
    "    with open(PATH_DATA_OUT + name + '.txt', 'w') as f:\n",
    "        f.write(content)\n",
    "    \n",
    "    return {\n",
    "        'name': name,\n",
    "        'content': content\n",
    "    }\n",
    "    \n",
    "\n",
    "# parse all files in txt_files and save them to PATH_DATA_OUT\n",
    "parsed_documents = []\n",
    "for file in txt_files:\n",
    "    parsed_file = parse_file(file)\n",
    "\n",
    "    file_obj = {\n",
    "        \"id\": parsed_file['name'],\n",
    "        \"content\": parsed_file['content'],\n",
    "        \"title\": parsed_file['name'],\n",
    "        \"createdAt\": '2021-01-01T00:00:00.000Z', \n",
    "        \"updatedAt\": '2021-01-01T00:00:00.000Z'\n",
    "    }\n",
    "\n",
    "    parsed_documents.append(file_obj)\n",
    "\n",
    "# write parsed_documents to PATH_OUT_FILE\n",
    "with open(PATH_OUT_FILE, 'w') as f:\n",
    "    json.dump(parsed_documents, f)\n",
    "\n"
   ]
  },
  {
   "cell_type": "code",
   "execution_count": null,
   "metadata": {},
   "outputs": [],
   "source": []
  }
 ],
 "metadata": {
  "kernelspec": {
   "display_name": "Python 3",
   "language": "python",
   "name": "python3"
  },
  "language_info": {
   "codemirror_mode": {
    "name": "ipython",
    "version": 3
   },
   "file_extension": ".py",
   "mimetype": "text/x-python",
   "name": "python",
   "nbconvert_exporter": "python",
   "pygments_lexer": "ipython3",
   "version": "3.11.5"
  }
 },
 "nbformat": 4,
 "nbformat_minor": 2
}
